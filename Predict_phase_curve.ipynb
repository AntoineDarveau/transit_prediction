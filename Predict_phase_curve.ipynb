{
 "cells": [
  {
   "cell_type": "code",
   "execution_count": 165,
   "metadata": {},
   "outputs": [],
   "source": [
    "from astropy.time import Time\n",
    "import datetime as dt\n",
    "import astropy.units as u\n",
    "import warnings\n",
    "from astropy.utils.exceptions import AstropyUserWarning, AstropyWarning\n",
    "from astropy.table import vstack, Table\n",
    "import numpy as np\n",
    "from transit_prediction.utils.list_of_constraints import List_of_constraints \n",
    "\n",
    "# Import astroplan tools and constraints\n",
    "# Other constraints are available\n",
    "from astroplan import (FixedTarget, Observer, EclipsingSystem,\n",
    "                       PrimaryEclipseConstraint, is_event_observable,\n",
    "                       AtNightConstraint, AltitudeConstraint,\n",
    "                       TimeConstraint, AirmassConstraint, PhaseConstraint)\n",
    "\n",
    "from masterfile import MasterFile"
   ]
  },
  {
   "cell_type": "code",
   "execution_count": 200,
   "metadata": {},
   "outputs": [],
   "source": [
    "def min_start_time(constraints_list, obs, target, time, dt=1*u.min):\n",
    "    \n",
    "    time = Time(time)\n",
    "    evening = obs.sun_set_time(time, which='previous')\n",
    "\n",
    "    time_grid = np.arange(evening.jd, time.jd, dt.to('day').value) * u.d\n",
    "    time_grid = Time(time_grid, format='jd')\n",
    "    \n",
    "    index = is_event_observable(constraints_list,\n",
    "                                obs, target,\n",
    "                                times=time_grid).squeeze()\n",
    "    \n",
    "    return time_grid[index][0]\n",
    "\n",
    "def max_end_time(constraints_list, obs, target, time, dt=1*u.min):\n",
    "    \n",
    "    time = Time(time)\n",
    "    morning = obs.sun_rise_time(time, which='next')\n",
    "\n",
    "    time_grid = np.arange(time.jd, morning.jd, dt.to('day').value) * u.d\n",
    "    time_grid = Time(time_grid, format='jd')\n",
    "    \n",
    "    index = is_event_observable(constraints_list,\n",
    "                                obs, target,\n",
    "                                times=time_grid).squeeze()\n",
    "    \n",
    "    return time_grid[index][-1]\n",
    "\n",
    "def min_start_times(constraints_list, obs, target, times, dt=1*u.min):\n",
    "    \n",
    "    out = []\n",
    "    for time in times:\n",
    "        out.append(min_start_time(constraints_list, obs, target, time, dt=1*u.min))\n",
    "        \n",
    "    return Time(out)\n",
    "\n",
    "def max_end_times(constraints_list, obs, target, times, dt=1*u.min):\n",
    "    \n",
    "    out = []\n",
    "    for time in times:\n",
    "        out.append(max_end_time(constraints_list, obs, target, time, dt=1*u.min))\n",
    "        \n",
    "    return Time(out)"
   ]
  },
  {
   "cell_type": "markdown",
   "metadata": {},
   "source": [
    "# Get planets info"
   ]
  },
  {
   "cell_type": "code",
   "execution_count": 2,
   "metadata": {},
   "outputs": [],
   "source": [
    "target_list = ['51 Peg', 'ups And b']  # Stefan"
   ]
  },
  {
   "cell_type": "code",
   "execution_count": 3,
   "metadata": {},
   "outputs": [],
   "source": [
    "data = MasterFile.read().by_plName(*target_list)"
   ]
  },
  {
   "cell_type": "markdown",
   "metadata": {},
   "source": [
    "# Inputs"
   ]
  },
  {
   "cell_type": "code",
   "execution_count": 222,
   "metadata": {},
   "outputs": [],
   "source": [
    "t1, t2 = Time(['2019-08-01 00:00', '2020-01-31 00:00'])\n",
    "site = 'cfht'\n",
    "# abs_baseline = 30 * u.min\n",
    "# baseline = None #2\n",
    "# See astroplan available constraints\n",
    "constraints = [AtNightConstraint.twilight_nautical(),\n",
    "               AirmassConstraint(max=2.),\n",
    "               TimeConstraint(t1,t2)\n",
    "              ]\n",
    "constraints_list = List_of_constraints(constraints)\n",
    "supp_cols = ['st_j','st_h']\n",
    "n_eclipses = 5000"
   ]
  },
  {
   "cell_type": "markdown",
   "metadata": {},
   "source": [
    "## Special inputs for phase"
   ]
  },
  {
   "cell_type": "code",
   "execution_count": 234,
   "metadata": {},
   "outputs": [],
   "source": [
    "# phase_range = [0.40, 0.48]  # One range at the time\n",
    "phase_range = [0.52, 0.60]\n",
    "obs_time = 5 * u.h\n",
    "dt_grid = 0.5*u.h"
   ]
  },
  {
   "cell_type": "code",
   "execution_count": null,
   "metadata": {},
   "outputs": [],
   "source": [
    "# constraints_list = [*constraints, PhaseConstraint()]"
   ]
  },
  {
   "cell_type": "markdown",
   "metadata": {},
   "source": [
    "# Add info about planets"
   ]
  },
  {
   "cell_type": "code",
   "execution_count": 11,
   "metadata": {},
   "outputs": [],
   "source": [
    "from transit_prediction.utils.table_edited import Column "
   ]
  },
  {
   "cell_type": "code",
   "execution_count": 12,
   "metadata": {},
   "outputs": [],
   "source": [
    "phase_zero = [2458708.83240,2458710.05353] * u.d"
   ]
  },
  {
   "cell_type": "code",
   "execution_count": 13,
   "metadata": {},
   "outputs": [],
   "source": [
    "data.add_column(Column(phase_zero, name='pl_phase_curve_zero', \n",
    "       description='equivalent to mid-transit time for a non eclipsing system. Use with caution')\n",
    "               )"
   ]
  },
  {
   "cell_type": "code",
   "execution_count": 14,
   "metadata": {},
   "outputs": [],
   "source": [
    "required_info = data['pl_name','pl_orbper','pl_phase_curve_zero']"
   ]
  },
  {
   "cell_type": "code",
   "execution_count": 15,
   "metadata": {},
   "outputs": [
    {
     "data": {
      "text/html": [
       "<i>MasterFile masked=True length=2</i>\n",
       "<table id=\"table139648924059800-334234\" class=\"table-striped table-bordered table-condensed\">\n",
       "<thead><tr><th>idx</th><th>pl_name</th><th>pl_orbper</th><th>pl_phase_curve_zero</th></tr></thead>\n",
       "<thead><tr><th></th><th></th><th>d</th><th>d</th></tr></thead>\n",
       "<tr><td>0</td><td>51 Peg b</td><td>4.230785</td><td>2458708.8324</td></tr>\n",
       "<tr><td>1</td><td>ups And b</td><td>4.617033</td><td>2458710.05353</td></tr>\n",
       "</table><style>table.dataTable {clear: both; width: auto !important; margin: 0 !important;}\n",
       ".dataTables_info, .dataTables_length, .dataTables_filter, .dataTables_paginate{\n",
       "display: inline-block; margin-right: 1em; }\n",
       ".paginate_button { margin-right: 5px; }\n",
       "</style>\n",
       "<script>\n",
       "\n",
       "var astropy_sort_num = function(a, b) {\n",
       "    var a_num = parseFloat(a);\n",
       "    var b_num = parseFloat(b);\n",
       "\n",
       "    if (isNaN(a_num) && isNaN(b_num))\n",
       "        return ((a < b) ? -1 : ((a > b) ? 1 : 0));\n",
       "    else if (!isNaN(a_num) && !isNaN(b_num))\n",
       "        return ((a_num < b_num) ? -1 : ((a_num > b_num) ? 1 : 0));\n",
       "    else\n",
       "        return isNaN(a_num) ? -1 : 1;\n",
       "}\n",
       "\n",
       "require.config({paths: {\n",
       "    datatables: 'https://cdn.datatables.net/1.10.12/js/jquery.dataTables.min'\n",
       "}});\n",
       "require([\"datatables\"], function(){\n",
       "    console.log(\"$('#table139648924059800-334234').dataTable()\");\n",
       "    \n",
       "jQuery.extend( jQuery.fn.dataTableExt.oSort, {\n",
       "    \"optionalnum-asc\": astropy_sort_num,\n",
       "    \"optionalnum-desc\": function (a,b) { return -astropy_sort_num(a, b); }\n",
       "});\n",
       "\n",
       "    $('#table139648924059800-334234').dataTable({\n",
       "        order: [],\n",
       "        pageLength: 50,\n",
       "        lengthMenu: [[10, 25, 50, 100, 500, 1000, -1], [10, 25, 50, 100, 500, 1000, 'All']],\n",
       "        pagingType: \"full_numbers\",\n",
       "        columnDefs: [{targets: [0, 2, 3], type: \"optionalnum\"}]\n",
       "    });\n",
       "});\n",
       "</script>\n"
      ],
      "text/plain": [
       "<IPython.core.display.HTML object>"
      ]
     },
     "execution_count": 15,
     "metadata": {},
     "output_type": "execute_result"
    }
   ],
   "source": [
    "required_info.show_in_notebook()"
   ]
  },
  {
   "cell_type": "code",
   "execution_count": 225,
   "metadata": {},
   "outputs": [],
   "source": [
    "# Define needed quantities based on planets infos\n",
    "# Must be quatities arrays (astropy)\n",
    "# Here we use a given astropy Table (data) to get the infos\n",
    "\n",
    "epoch, period = data.cols_2_qarr('pl_phase_curve_zero', 'pl_orbper')\n",
    "epoch = Time(epoch, format='jd')\n",
    "pl_name = data['pl_name']\n",
    "\n",
    "\n",
    "observing_time = t1\n",
    "obs = Observer.at_site(site)"
   ]
  },
  {
   "cell_type": "code",
   "execution_count": 235,
   "metadata": {},
   "outputs": [],
   "source": [
    "col_names = ('pl_name',\n",
    "             'Obs_start',\n",
    "             'Phase_start',\n",
    "             'Obs_end',\n",
    "             'Phase_end',\n",
    "             'mid_tr',\n",
    "             'AM_mid_tr',\n",
    "             'moon',\n",
    "             *supp_cols\n",
    "            )\n",
    "meta = {'Time_limits': [t1, t2],\n",
    "        'Target_list': pl_name.tolist(),\n",
    "        'Site': site,\n",
    "        'Phase_range': phase_range,\n",
    "        **constraints_list.show()\n",
    "       }"
   ]
  },
  {
   "cell_type": "code",
   "execution_count": 236,
   "metadata": {},
   "outputs": [],
   "source": [
    "from astroplan import PeriodicEvent"
   ]
  },
  {
   "cell_type": "code",
   "execution_count": 237,
   "metadata": {},
   "outputs": [
    {
     "name": "stderr",
     "output_type": "stream",
     "text": [
      "WARNING: ErfaWarning: ERFA function \"taiutc\" yielded 4791 of \"dubious year (Note 4)\" [astropy._erfa.core]\n",
      "WARNING: ErfaWarning: ERFA function \"taiutc\" yielded 4809 of \"dubious year (Note 4)\" [astropy._erfa.core]\n"
     ]
    }
   ],
   "source": [
    "full_table = Table()\n",
    "for itar in range(len(pl_name)):\n",
    "\n",
    "    # -------------------------\n",
    "    # Steps to predict transits\n",
    "    # -------------------------\n",
    "    try:\n",
    "        target = FixedTarget.from_name(pl_name[itar])\n",
    "    except NameResolveError as e:\n",
    "        print(e)\n",
    "        try_name = ' '.join(pl_name[itar].split(' ')[:-2])\n",
    "        print(\"Trying with {}\".format(try_name))\n",
    "        try:\n",
    "            target = FixedTarget.from_name(try_name)\n",
    "        except NameResolveError as e:\n",
    "            print(e)\n",
    "            print('Searching in masterfile for RA and dec')\n",
    "            try_radec = MasterFile.read().by_plName(pl_name[itar])\n",
    "            ra = try_radec['ra'].quantity\n",
    "            dec = try_radec['dec'].quantity\n",
    "            coord = SkyCoord(ra=ra, dec=dec)\n",
    "            target = FixedTarget(coord=coord,\n",
    "                                 name=pl_name[itar])\n",
    "            \n",
    "\n",
    "    \n",
    "    dt_grid = 0.5*u.h\n",
    "    d_phase = (dt_grid /period[itar]).decompose().value\n",
    "    [p1, p2] = phase_range\n",
    "    p1 += d_phase/10  # Make sure it's not on the boundary\n",
    "    p2 -= d_phase/10\n",
    "    phase_grid = np.arange(p1, p2, d_phase)\n",
    "    phase_grid = phase_grid*period[itar] + epoch[itar]\n",
    "    \n",
    "    t_grid = []\n",
    "    for phase in phase_grid:\n",
    "        sys = EclipsingSystem(primary_eclipse_time=phase,\n",
    "                              orbital_period=period[itar])\n",
    "        t_temp = sys.next_primary_eclipse_time(observing_time,\n",
    "                                               n_eclipses=n_eclipses)\n",
    "        t_grid.append(t_temp.jd)\n",
    "    t_grid = Time(t_grid, format='jd').T\n",
    "\n",
    "    \n",
    "    if t_grid[-1,-1] < t2:\n",
    "        warnings.warn('end time ('+t2.value +\n",
    "                      ') is passed the last computed event time (' +\n",
    "                      t_mid[-1].value+')\\n' +\n",
    "                     '\\t You can change the n_eclipse kwarg ' +\n",
    "                     'value or choose a different window (start or end time)',\n",
    "                     AstropyUserWarning\n",
    "                    )\n",
    "\n",
    "    t_grid = t_grid[(t_grid < t2).any(axis=1)]\n",
    "    \n",
    "    events = []\n",
    "    for grid in t_grid:\n",
    "        index = is_event_observable(constraints_list, obs, target, times=grid).squeeze()\n",
    "        if index.any():\n",
    "            events.append(np.mean(grid[index].jd))\n",
    "    events = Time(events, format='jd')\n",
    "    \n",
    "    # Finally add phase constraint\n",
    "    sys = PeriodicEvent(epoch=epoch[itar], period=period[itar])\n",
    "    \n",
    "    final_constraints = [*constraints_list,\n",
    "        PhaseConstraint(sys, *phase_range)]\n",
    "    \n",
    "    obs_start = min_start_times(final_constraints, obs, target, events)\n",
    "    obs_end = max_end_times(final_constraints, obs, target, events)\n",
    "    baseline = obs_end - obs_start\n",
    "    t_mid = obs_start + baseline/2\n",
    "    \n",
    "    index = (obs_end - obs_start) > obs_time\n",
    "\n",
    "    # -------------------\n",
    "    # End of steps to predict transits\n",
    "    # -------------------\n",
    "\n",
    "    # Put the infos in a table and stack it to the full table\n",
    "    if index.any():\n",
    "        name = np.repeat(target.name,index.sum()).astype(str)\n",
    "        moon = obs.moon_illumination(t_mid[index])\n",
    "        phase_start = sys.phase(obs_start[index])\n",
    "        phase_end = sys.phase(obs_end[index])\n",
    "        AM_mid = obs.altaz(t_mid[index], target).secz\n",
    "        supp = [np.repeat(data[key][itar],index.sum())\n",
    "                for key in supp_cols]\n",
    "        cols = [name,\n",
    "                obs_start[index].iso,\n",
    "                phase_start,\n",
    "                obs_end[index].iso,\n",
    "                phase_end,\n",
    "                t_mid[index].iso,\n",
    "                AM_mid,\n",
    "                moon,\n",
    "                *supp\n",
    "               ]\n",
    "        table_sys = Table(cols, names=col_names, masked=True)\n",
    "        full_table = vstack([table_sys, full_table])\n",
    "    else:\n",
    "        warnings.warn('No event found for '+sys.name, AstropyUserWarning)\n",
    "\n",
    "if full_table:\n",
    "    full_table.sort('mid_tr')\n",
    "    full_table.meta = meta\n",
    "else:\n",
    "    warnings.warn('No event found at all', AstropyUserWarning)"
   ]
  },
  {
   "cell_type": "code",
   "execution_count": 238,
   "metadata": {},
   "outputs": [
    {
     "data": {
      "text/html": [
       "<i>Table masked=True length=15</i>\n",
       "<table id=\"table139648558246936\" class=\"table-striped table-bordered table-condensed\">\n",
       "<thead><tr><th>pl_name</th><th>Obs_start</th><th>Phase_start</th><th>Obs_end</th><th>Phase_end</th><th>mid_tr</th><th>AM_mid_tr</th><th>moon</th><th>st_j</th><th>st_h</th></tr></thead>\n",
       "<thead><tr><th></th><th></th><th></th><th></th><th></th><th></th><th></th><th></th><th></th><th></th></tr></thead>\n",
       "<thead><tr><th>str9</th><th>str23</th><th>float64</th><th>str23</th><th>float64</th><th>str23</th><th>float64</th><th>float64</th><th>float64</th><th>float64</th></tr></thead>\n",
       "<tr><td>51 Peg b</td><td>2019-08-11 07:44:54.867</td><td>0.5250189409411916</td><td>2019-08-11 15:10:20.244</td><td>0.5981310196512811</td><td>2019-08-11 11:27:37.555</td><td>1.0099964112005178</td><td>0.8535582052146329</td><td>4.655</td><td>4.234</td></tr>\n",
       "<tr><td>ups And b</td><td>2019-08-12 10:10:17.418</td><td>0.5387259969493939</td><td>2019-08-12 15:10:47.399</td><td>0.5839239276898928</td><td>2019-08-12 12:40:32.408</td><td>1.190385819343101</td><td>0.9189929129281438</td><td>3.175</td><td>2.957</td></tr>\n",
       "<tr><td>51 Peg b</td><td>2019-08-28 06:38:35.389</td><td>0.5322992041391231</td><td>2019-08-28 13:30:39.540</td><td>0.5999365687200324</td><td>2019-08-28 10:04:37.465</td><td>1.021750347543217</td><td>0.0614021445437164</td><td>4.655</td><td>4.234</td></tr>\n",
       "<tr><td>ups And b</td><td>2019-09-04 10:08:41.249</td><td>0.5200390912252708</td><td>2019-09-04 15:18:25.655</td><td>0.5666268643269863</td><td>2019-09-04 12:43:33.452</td><td>1.0801805508819908</td><td>0.33158424484289867</td><td>3.175</td><td>2.957</td></tr>\n",
       "<tr><td>51 Peg b</td><td>2019-09-14 05:31:45.069</td><td>0.5394950928403798</td><td>2019-09-14 11:39:58.836</td><td>0.5999365689605552</td><td>2019-09-14 08:35:51.953</td><td>1.0455544179906504</td><td>0.9981009841299522</td><td>4.655</td><td>4.234</td></tr>\n",
       "<tr><td>ups And b</td><td>2019-09-18 07:44:05.611</td><td>0.5305411853787942</td><td>2019-09-18 15:22:00.608</td><td>0.5994160789082402</td><td>2019-09-18 11:33:03.109</td><td>1.0876574205537648</td><td>0.8377881883090996</td><td>3.175</td><td>2.957</td></tr>\n",
       "<tr><td>ups And b</td><td>2019-10-02 06:49:25.855</td><td>0.5545697897876823</td><td>2019-10-02 11:50:35.562</td><td>0.5998673073879096</td><td>2019-10-02 09:20:00.708</td><td>1.1904708887024427</td><td>0.17800626236652828</td><td>3.175</td><td>2.957</td></tr>\n",
       "<tr><td>51 Peg b</td><td>2019-10-05 07:14:48.948</td><td>0.5200300679477109</td><td>2019-10-05 12:41:37.956</td><td>0.5736740406630009</td><td>2019-10-05 09:58:13.452</td><td>1.0771593086786837</td><td>0.47267857834165666</td><td>4.655</td><td>4.234</td></tr>\n",
       "<tr><td>ups And b</td><td>2019-10-11 08:36:46.411</td><td>0.5200189157181426</td><td>2019-10-11 15:07:38.864</td><td>0.5788100126705076</td><td>2019-10-11 11:52:12.638</td><td>1.1169509524649939</td><td>0.9471821308278727</td><td>3.175</td><td>2.957</td></tr>\n",
       "<tr><td>51 Peg b</td><td>2019-10-22 05:24:27.584</td><td>0.5200829769768192</td><td>2019-10-22 11:34:57.252</td><td>0.580896235776178</td><td>2019-10-22 08:29:42.418</td><td>1.0442634059993858</td><td>0.40924778399732287</td><td>4.655</td><td>4.234</td></tr>\n",
       "<tr><td>ups And b</td><td>2019-10-25 05:19:27.988</td><td>0.5225924764125757</td><td>2019-10-25 13:53:13.818</td><td>0.5998673063912461</td><td>2019-10-25 09:36:20.903</td><td>1.0768306985583642</td><td>0.10968369497380148</td><td>3.175</td><td>2.957</td></tr>\n",
       "<tr><td>ups And b</td><td>2019-11-08 04:34:06.067</td><td>0.5480194740627067</td><td>2019-11-08 10:18:48.772</td><td>0.5998673071649067</td><td>2019-11-08 07:26:27.419</td><td>1.1340726124933413</td><td>0.835583992790522</td><td>3.175</td><td>2.957</td></tr>\n",
       "<tr><td>51 Peg b</td><td>2019-11-08 04:34:06.077</td><td>0.5299839419483303</td><td>2019-11-08 10:28:16.548</td><td>0.5881184311094849</td><td>2019-11-08 07:31:11.312</td><td>1.0556803403140875</td><td>0.835813502337045</td><td>4.655</td><td>4.234</td></tr>\n",
       "<tr><td>ups And b</td><td>2019-11-17 07:05:20.397</td><td>0.5200709981830403</td><td>2019-11-17 12:41:52.074</td><td>0.5706879138402032</td><td>2019-11-17 09:53:36.235</td><td>1.1556595927595528</td><td>0.76261769919672</td><td>3.175</td><td>2.957</td></tr>\n",
       "<tr><td>ups And b</td><td>2019-12-01 04:32:34.826</td><td>0.5293449208312261</td><td>2019-12-01 11:47:27.027</td><td>0.5947533924693817</td><td>2019-12-01 08:10:00.927</td><td>1.0956113168687416</td><td>0.2315892970451906</td><td>3.175</td><td>2.957</td></tr>\n",
       "</table>"
      ],
      "text/plain": [
       "<Table masked=True length=15>\n",
       " pl_name         Obs_start           Phase_start     ...   st_j    st_h \n",
       "                                                     ...                \n",
       "   str9            str23               float64       ... float64 float64\n",
       "--------- ----------------------- ------------------ ... ------- -------\n",
       " 51 Peg b 2019-08-11 07:44:54.867 0.5250189409411916 ...   4.655   4.234\n",
       "ups And b 2019-08-12 10:10:17.418 0.5387259969493939 ...   3.175   2.957\n",
       " 51 Peg b 2019-08-28 06:38:35.389 0.5322992041391231 ...   4.655   4.234\n",
       "ups And b 2019-09-04 10:08:41.249 0.5200390912252708 ...   3.175   2.957\n",
       " 51 Peg b 2019-09-14 05:31:45.069 0.5394950928403798 ...   4.655   4.234\n",
       "ups And b 2019-09-18 07:44:05.611 0.5305411853787942 ...   3.175   2.957\n",
       "ups And b 2019-10-02 06:49:25.855 0.5545697897876823 ...   3.175   2.957\n",
       " 51 Peg b 2019-10-05 07:14:48.948 0.5200300679477109 ...   4.655   4.234\n",
       "ups And b 2019-10-11 08:36:46.411 0.5200189157181426 ...   3.175   2.957\n",
       " 51 Peg b 2019-10-22 05:24:27.584 0.5200829769768192 ...   4.655   4.234\n",
       "ups And b 2019-10-25 05:19:27.988 0.5225924764125757 ...   3.175   2.957\n",
       "ups And b 2019-11-08 04:34:06.067 0.5480194740627067 ...   3.175   2.957\n",
       " 51 Peg b 2019-11-08 04:34:06.077 0.5299839419483303 ...   4.655   4.234\n",
       "ups And b 2019-11-17 07:05:20.397 0.5200709981830403 ...   3.175   2.957\n",
       "ups And b 2019-12-01 04:32:34.826 0.5293449208312261 ...   3.175   2.957"
      ]
     },
     "execution_count": 238,
     "metadata": {},
     "output_type": "execute_result"
    }
   ],
   "source": [
    "full_table"
   ]
  },
  {
   "cell_type": "code",
   "execution_count": 239,
   "metadata": {},
   "outputs": [],
   "source": [
    "file_name = '/home/adb/Doctorat/transit_predictions/list_of_phase_stefan_{}_{}.ecsv'"
   ]
  },
  {
   "cell_type": "code",
   "execution_count": 240,
   "metadata": {},
   "outputs": [],
   "source": [
    "full_table.write(file_name.format(*meta['Phase_range']),\n",
    "                 delimiter=',')"
   ]
  },
  {
   "cell_type": "code",
   "execution_count": null,
   "metadata": {},
   "outputs": [],
   "source": []
  }
 ],
 "metadata": {
  "kernelspec": {
   "display_name": "Python 3",
   "language": "python",
   "name": "python3"
  },
  "language_info": {
   "codemirror_mode": {
    "name": "ipython",
    "version": 3
   },
   "file_extension": ".py",
   "mimetype": "text/x-python",
   "name": "python",
   "nbconvert_exporter": "python",
   "pygments_lexer": "ipython3",
   "version": "3.7.1"
  }
 },
 "nbformat": 4,
 "nbformat_minor": 2
}
