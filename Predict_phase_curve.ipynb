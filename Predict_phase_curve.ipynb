{
 "cells": [
  {
   "cell_type": "code",
   "execution_count": 165,
   "metadata": {},
   "outputs": [],
   "source": [
    "from astropy.time import Time\n",
    "import datetime as dt\n",
    "import astropy.units as u\n",
    "import warnings\n",
    "from astropy.utils.exceptions import AstropyUserWarning, AstropyWarning\n",
    "from astropy.table import vstack, Table\n",
    "import numpy as np\n",
    "from transit_prediction.utils.list_of_constraints import List_of_constraints \n",
    "\n",
    "# Import astroplan tools and constraints\n",
    "# Other constraints are available\n",
    "from astroplan import (FixedTarget, Observer, EclipsingSystem,\n",
    "                       PrimaryEclipseConstraint, is_event_observable,\n",
    "                       AtNightConstraint, AltitudeConstraint,\n",
    "                       TimeConstraint, AirmassConstraint, PhaseConstraint)\n",
    "\n",
    "from masterfile import MasterFile"
   ]
  },
  {
   "cell_type": "code",
   "execution_count": 241,
   "metadata": {},
   "outputs": [],
   "source": [
    "def min_start_time(constraints_list, obs, target, time, dt=1*u.min):\n",
    "    \n",
    "    time = Time(time)\n",
    "    evening = obs.sun_set_time(time, which='previous')\n",
    "\n",
    "    time_grid = np.arange(evening.jd, time.jd, dt.to('day').value) * u.d\n",
    "    time_grid = Time(time_grid, format='jd')\n",
    "    \n",
    "    index = is_event_observable(constraints_list,\n",
    "                                obs, target,\n",
    "                                times=time_grid).squeeze()\n",
    "    \n",
    "    return time_grid[index][0]\n",
    "\n",
    "def max_end_time(constraints_list, obs, target, time, dt=1*u.min):\n",
    "    \n",
    "    time = Time(time)\n",
    "    morning = obs.sun_rise_time(time, which='next')\n",
    "\n",
    "    time_grid = np.arange(time.jd, morning.jd, dt.to('day').value) * u.d\n",
    "    time_grid = Time(time_grid, format='jd')\n",
    "    \n",
    "    index = is_event_observable(constraints_list,\n",
    "                                obs, target,\n",
    "                                times=time_grid).squeeze()\n",
    "    \n",
    "    return time_grid[index][-1]\n",
    "\n",
    "def min_start_times(constraints_list, obs, target, times, dt=1*u.min):\n",
    "    \n",
    "    out = []\n",
    "    for time in times:\n",
    "        out.append(min_start_time(constraints_list, obs, target, time, dt=1*u.min))\n",
    "        \n",
    "    return Time(out)\n",
    "\n",
    "def max_end_times(constraints_list, obs, target, times, dt=1*u.min):\n",
    "    \n",
    "    out = []\n",
    "    for time in times:\n",
    "        out.append(max_end_time(constraints_list, obs, target, time, dt=1*u.min))\n",
    "        \n",
    "    return Time(out)"
   ]
  },
  {
   "cell_type": "markdown",
   "metadata": {},
   "source": [
    "# Get planets info"
   ]
  },
  {
   "cell_type": "code",
   "execution_count": 242,
   "metadata": {},
   "outputs": [],
   "source": [
    "target_list = ['51 Peg', 'ups And b']  # Stefan"
   ]
  },
  {
   "cell_type": "code",
   "execution_count": 243,
   "metadata": {},
   "outputs": [],
   "source": [
    "data = MasterFile.read().by_plName(*target_list)"
   ]
  },
  {
   "cell_type": "markdown",
   "metadata": {},
   "source": [
    "# Inputs"
   ]
  },
  {
   "cell_type": "code",
   "execution_count": 294,
   "metadata": {},
   "outputs": [],
   "source": [
    "t1, t2 = Time(['2019-08-01 00:00', '2020-01-31 00:00'])\n",
    "site = 'cfht'\n",
    "# abs_baseline = 30 * u.min\n",
    "# baseline = None #2\n",
    "# See astroplan available constraints\n",
    "constraints = [AtNightConstraint.twilight_nautical(),\n",
    "               AirmassConstraint(max=2.),\n",
    "               TimeConstraint(t1,t2)\n",
    "              ]\n",
    "constraints_list = List_of_constraints(constraints)\n",
    "supp_cols = ['st_j','st_h','ra','dec','pl_eqt','st_teff']\n",
    "n_eclipses = 5000"
   ]
  },
  {
   "cell_type": "markdown",
   "metadata": {},
   "source": [
    "## Special inputs for phase"
   ]
  },
  {
   "cell_type": "code",
   "execution_count": 311,
   "metadata": {},
   "outputs": [],
   "source": [
    "# phase_range = [0.35, 0.49]  # One range at the time\n",
    "phase_range = [0.51, 0.65]\n",
    "obs_time = 5 * u.h\n",
    "dt_grid = 0.5*u.h"
   ]
  },
  {
   "cell_type": "code",
   "execution_count": 296,
   "metadata": {},
   "outputs": [],
   "source": [
    "# constraints_list = [*constraints, PhaseConstraint()]"
   ]
  },
  {
   "cell_type": "markdown",
   "metadata": {},
   "source": [
    "# Add info about planets"
   ]
  },
  {
   "cell_type": "code",
   "execution_count": 297,
   "metadata": {},
   "outputs": [],
   "source": [
    "from transit_prediction.utils.table_edited import Column "
   ]
  },
  {
   "cell_type": "code",
   "execution_count": 298,
   "metadata": {},
   "outputs": [],
   "source": [
    "phase_zero = [2458708.83240,2458710.05353] * u.d"
   ]
  },
  {
   "cell_type": "code",
   "execution_count": 270,
   "metadata": {},
   "outputs": [
    {
     "ename": "ValueError",
     "evalue": "Duplicate column names",
     "output_type": "error",
     "traceback": [
      "\u001b[0;31m---------------------------------------------------------------------------\u001b[0m",
      "\u001b[0;31mValueError\u001b[0m                                Traceback (most recent call last)",
      "\u001b[0;32m<ipython-input-270-d049be56e4b8>\u001b[0m in \u001b[0;36m<module>\u001b[0;34m()\u001b[0m\n\u001b[1;32m      1\u001b[0m data.add_column(Column(phase_zero, name='pl_phase_curve_zero', \n\u001b[0;32m----> 2\u001b[0;31m        description='equivalent to mid-transit time for a non eclipsing system. Use with caution')\n\u001b[0m\u001b[1;32m      3\u001b[0m                )\n",
      "\u001b[0;32m~/anaconda3/lib/python3.7/site-packages/astropy/table/table.py\u001b[0m in \u001b[0;36madd_column\u001b[0;34m(self, col, index, name, rename_duplicate, copy)\u001b[0m\n\u001b[1;32m   1574\u001b[0m             \u001b[0mname\u001b[0m \u001b[0;34m=\u001b[0m \u001b[0;34m(\u001b[0m\u001b[0mname\u001b[0m\u001b[0;34m,\u001b[0m\u001b[0;34m)\u001b[0m\u001b[0;34m\u001b[0m\u001b[0;34m\u001b[0m\u001b[0m\n\u001b[1;32m   1575\u001b[0m \u001b[0;34m\u001b[0m\u001b[0m\n\u001b[0;32m-> 1576\u001b[0;31m         \u001b[0mself\u001b[0m\u001b[0;34m.\u001b[0m\u001b[0madd_columns\u001b[0m\u001b[0;34m(\u001b[0m\u001b[0;34m[\u001b[0m\u001b[0mcol\u001b[0m\u001b[0;34m]\u001b[0m\u001b[0;34m,\u001b[0m \u001b[0;34m[\u001b[0m\u001b[0mindex\u001b[0m\u001b[0;34m]\u001b[0m\u001b[0;34m,\u001b[0m \u001b[0mname\u001b[0m\u001b[0;34m,\u001b[0m \u001b[0mcopy\u001b[0m\u001b[0;34m=\u001b[0m\u001b[0mcopy\u001b[0m\u001b[0;34m,\u001b[0m \u001b[0mrename_duplicate\u001b[0m\u001b[0;34m=\u001b[0m\u001b[0mrename_duplicate\u001b[0m\u001b[0;34m)\u001b[0m\u001b[0;34m\u001b[0m\u001b[0;34m\u001b[0m\u001b[0m\n\u001b[0m\u001b[1;32m   1577\u001b[0m \u001b[0;34m\u001b[0m\u001b[0m\n\u001b[1;32m   1578\u001b[0m     \u001b[0;32mdef\u001b[0m \u001b[0madd_columns\u001b[0m\u001b[0;34m(\u001b[0m\u001b[0mself\u001b[0m\u001b[0;34m,\u001b[0m \u001b[0mcols\u001b[0m\u001b[0;34m,\u001b[0m \u001b[0mindexes\u001b[0m\u001b[0;34m=\u001b[0m\u001b[0;32mNone\u001b[0m\u001b[0;34m,\u001b[0m \u001b[0mnames\u001b[0m\u001b[0;34m=\u001b[0m\u001b[0;32mNone\u001b[0m\u001b[0;34m,\u001b[0m \u001b[0mcopy\u001b[0m\u001b[0;34m=\u001b[0m\u001b[0;32mTrue\u001b[0m\u001b[0;34m,\u001b[0m \u001b[0mrename_duplicate\u001b[0m\u001b[0;34m=\u001b[0m\u001b[0;32mFalse\u001b[0m\u001b[0;34m)\u001b[0m\u001b[0;34m:\u001b[0m\u001b[0;34m\u001b[0m\u001b[0;34m\u001b[0m\u001b[0m\n",
      "\u001b[0;32m~/anaconda3/lib/python3.7/site-packages/astropy/table/table.py\u001b[0m in \u001b[0;36madd_columns\u001b[0;34m(self, cols, indexes, names, copy, rename_duplicate)\u001b[0m\n\u001b[1;32m   1713\u001b[0m                     \u001b[0mexisting_names\u001b[0m\u001b[0;34m.\u001b[0m\u001b[0madd\u001b[0m\u001b[0;34m(\u001b[0m\u001b[0mnew_name\u001b[0m\u001b[0;34m)\u001b[0m\u001b[0;34m\u001b[0m\u001b[0;34m\u001b[0m\u001b[0m\n\u001b[1;32m   1714\u001b[0m \u001b[0;34m\u001b[0m\u001b[0m\n\u001b[0;32m-> 1715\u001b[0;31m         \u001b[0mself\u001b[0m\u001b[0;34m.\u001b[0m\u001b[0m_init_from_cols\u001b[0m\u001b[0;34m(\u001b[0m\u001b[0mnewcols\u001b[0m\u001b[0;34m)\u001b[0m\u001b[0;34m\u001b[0m\u001b[0;34m\u001b[0m\u001b[0m\n\u001b[0m\u001b[1;32m   1716\u001b[0m \u001b[0;34m\u001b[0m\u001b[0m\n\u001b[1;32m   1717\u001b[0m     \u001b[0;32mdef\u001b[0m \u001b[0m_replace_column_warnings\u001b[0m\u001b[0;34m(\u001b[0m\u001b[0mself\u001b[0m\u001b[0;34m,\u001b[0m \u001b[0mname\u001b[0m\u001b[0;34m,\u001b[0m \u001b[0mcol\u001b[0m\u001b[0;34m)\u001b[0m\u001b[0;34m:\u001b[0m\u001b[0;34m\u001b[0m\u001b[0;34m\u001b[0m\u001b[0m\n",
      "\u001b[0;32m~/anaconda3/lib/python3.7/site-packages/astropy/table/table.py\u001b[0m in \u001b[0;36m_init_from_cols\u001b[0;34m(self, cols)\u001b[0m\n\u001b[1;32m    761\u001b[0m         \u001b[0;31m# convert columns with units to a Quantity mixin.\u001b[0m\u001b[0;34m\u001b[0m\u001b[0;34m\u001b[0m\u001b[0;34m\u001b[0m\u001b[0m\n\u001b[1;32m    762\u001b[0m         \u001b[0mnewcols\u001b[0m \u001b[0;34m=\u001b[0m \u001b[0;34m[\u001b[0m\u001b[0mself\u001b[0m\u001b[0;34m.\u001b[0m\u001b[0m_convert_col_for_table\u001b[0m\u001b[0;34m(\u001b[0m\u001b[0mcol\u001b[0m\u001b[0;34m)\u001b[0m \u001b[0;32mfor\u001b[0m \u001b[0mcol\u001b[0m \u001b[0;32min\u001b[0m \u001b[0mcols\u001b[0m\u001b[0;34m]\u001b[0m\u001b[0;34m\u001b[0m\u001b[0;34m\u001b[0m\u001b[0m\n\u001b[0;32m--> 763\u001b[0;31m         \u001b[0mself\u001b[0m\u001b[0;34m.\u001b[0m\u001b[0m_make_table_from_cols\u001b[0m\u001b[0;34m(\u001b[0m\u001b[0mself\u001b[0m\u001b[0;34m,\u001b[0m \u001b[0mnewcols\u001b[0m\u001b[0;34m)\u001b[0m\u001b[0;34m\u001b[0m\u001b[0;34m\u001b[0m\u001b[0m\n\u001b[0m\u001b[1;32m    764\u001b[0m \u001b[0;34m\u001b[0m\u001b[0m\n\u001b[1;32m    765\u001b[0m         \u001b[0;31m# Deduplicate indices.  It may happen that after pickling or when\u001b[0m\u001b[0;34m\u001b[0m\u001b[0;34m\u001b[0m\u001b[0;34m\u001b[0m\u001b[0m\n",
      "\u001b[0;32m~/anaconda3/lib/python3.7/site-packages/astropy/table/table.py\u001b[0m in \u001b[0;36m_make_table_from_cols\u001b[0;34m(table, cols)\u001b[0m\n\u001b[1;32m    806\u001b[0m             \u001b[0;32mraise\u001b[0m \u001b[0mTypeError\u001b[0m\u001b[0;34m(\u001b[0m\u001b[0;34m'Cannot have None for column name'\u001b[0m\u001b[0;34m)\u001b[0m\u001b[0;34m\u001b[0m\u001b[0;34m\u001b[0m\u001b[0m\n\u001b[1;32m    807\u001b[0m         \u001b[0;32mif\u001b[0m \u001b[0mlen\u001b[0m\u001b[0;34m(\u001b[0m\u001b[0mcolnames\u001b[0m\u001b[0;34m)\u001b[0m \u001b[0;34m!=\u001b[0m \u001b[0mlen\u001b[0m\u001b[0;34m(\u001b[0m\u001b[0mcols\u001b[0m\u001b[0;34m)\u001b[0m\u001b[0;34m:\u001b[0m\u001b[0;34m\u001b[0m\u001b[0;34m\u001b[0m\u001b[0m\n\u001b[0;32m--> 808\u001b[0;31m             \u001b[0;32mraise\u001b[0m \u001b[0mValueError\u001b[0m\u001b[0;34m(\u001b[0m\u001b[0;34m'Duplicate column names'\u001b[0m\u001b[0;34m)\u001b[0m\u001b[0;34m\u001b[0m\u001b[0;34m\u001b[0m\u001b[0m\n\u001b[0m\u001b[1;32m    809\u001b[0m \u001b[0;34m\u001b[0m\u001b[0m\n\u001b[1;32m    810\u001b[0m         \u001b[0mcolumns\u001b[0m \u001b[0;34m=\u001b[0m \u001b[0mtable\u001b[0m\u001b[0;34m.\u001b[0m\u001b[0mTableColumns\u001b[0m\u001b[0;34m(\u001b[0m\u001b[0;34m(\u001b[0m\u001b[0mcol\u001b[0m\u001b[0;34m.\u001b[0m\u001b[0minfo\u001b[0m\u001b[0;34m.\u001b[0m\u001b[0mname\u001b[0m\u001b[0;34m,\u001b[0m \u001b[0mcol\u001b[0m\u001b[0;34m)\u001b[0m \u001b[0;32mfor\u001b[0m \u001b[0mcol\u001b[0m \u001b[0;32min\u001b[0m \u001b[0mcols\u001b[0m\u001b[0;34m)\u001b[0m\u001b[0;34m\u001b[0m\u001b[0;34m\u001b[0m\u001b[0m\n",
      "\u001b[0;31mValueError\u001b[0m: Duplicate column names"
     ]
    }
   ],
   "source": [
    "data.add_column(Column(phase_zero, name='pl_phase_curve_zero', \n",
    "       description='equivalent to mid-transit time for a non eclipsing system. Use with caution')\n",
    "               )"
   ]
  },
  {
   "cell_type": "code",
   "execution_count": 312,
   "metadata": {},
   "outputs": [],
   "source": [
    "required_info = data['pl_name','pl_orbper','pl_phase_curve_zero']"
   ]
  },
  {
   "cell_type": "code",
   "execution_count": 313,
   "metadata": {},
   "outputs": [
    {
     "data": {
      "text/html": [
       "<i>MasterFile masked=True length=2</i>\n",
       "<table id=\"table139648439815416-301962\" class=\"table-striped table-bordered table-condensed\">\n",
       "<thead><tr><th>idx</th><th>pl_name</th><th>pl_orbper</th><th>pl_phase_curve_zero</th></tr></thead>\n",
       "<thead><tr><th></th><th></th><th>d</th><th>d</th></tr></thead>\n",
       "<tr><td>0</td><td>51 Peg b</td><td>4.230785</td><td>2458708.8324</td></tr>\n",
       "<tr><td>1</td><td>ups And b</td><td>4.617033</td><td>2458710.05353</td></tr>\n",
       "</table><style>table.dataTable {clear: both; width: auto !important; margin: 0 !important;}\n",
       ".dataTables_info, .dataTables_length, .dataTables_filter, .dataTables_paginate{\n",
       "display: inline-block; margin-right: 1em; }\n",
       ".paginate_button { margin-right: 5px; }\n",
       "</style>\n",
       "<script>\n",
       "\n",
       "var astropy_sort_num = function(a, b) {\n",
       "    var a_num = parseFloat(a);\n",
       "    var b_num = parseFloat(b);\n",
       "\n",
       "    if (isNaN(a_num) && isNaN(b_num))\n",
       "        return ((a < b) ? -1 : ((a > b) ? 1 : 0));\n",
       "    else if (!isNaN(a_num) && !isNaN(b_num))\n",
       "        return ((a_num < b_num) ? -1 : ((a_num > b_num) ? 1 : 0));\n",
       "    else\n",
       "        return isNaN(a_num) ? -1 : 1;\n",
       "}\n",
       "\n",
       "require.config({paths: {\n",
       "    datatables: 'https://cdn.datatables.net/1.10.12/js/jquery.dataTables.min'\n",
       "}});\n",
       "require([\"datatables\"], function(){\n",
       "    console.log(\"$('#table139648439815416-301962').dataTable()\");\n",
       "    \n",
       "jQuery.extend( jQuery.fn.dataTableExt.oSort, {\n",
       "    \"optionalnum-asc\": astropy_sort_num,\n",
       "    \"optionalnum-desc\": function (a,b) { return -astropy_sort_num(a, b); }\n",
       "});\n",
       "\n",
       "    $('#table139648439815416-301962').dataTable({\n",
       "        order: [],\n",
       "        pageLength: 50,\n",
       "        lengthMenu: [[10, 25, 50, 100, 500, 1000, -1], [10, 25, 50, 100, 500, 1000, 'All']],\n",
       "        pagingType: \"full_numbers\",\n",
       "        columnDefs: [{targets: [0, 2, 3], type: \"optionalnum\"}]\n",
       "    });\n",
       "});\n",
       "</script>\n"
      ],
      "text/plain": [
       "<IPython.core.display.HTML object>"
      ]
     },
     "execution_count": 313,
     "metadata": {},
     "output_type": "execute_result"
    }
   ],
   "source": [
    "required_info.show_in_notebook()"
   ]
  },
  {
   "cell_type": "code",
   "execution_count": 314,
   "metadata": {},
   "outputs": [],
   "source": [
    "# Define needed quantities based on planets infos\n",
    "# Must be quatities arrays (astropy)\n",
    "# Here we use a given astropy Table (data) to get the infos\n",
    "\n",
    "epoch, period = data.cols_2_qarr('pl_phase_curve_zero', 'pl_orbper')\n",
    "epoch = Time(epoch, format='jd')\n",
    "pl_name = data['pl_name']\n",
    "\n",
    "\n",
    "observing_time = t1\n",
    "obs = Observer.at_site(site)"
   ]
  },
  {
   "cell_type": "code",
   "execution_count": 315,
   "metadata": {},
   "outputs": [],
   "source": [
    "col_names = ('pl_name',\n",
    "             'Obs_start',\n",
    "             'Phase_start',\n",
    "             'Obs_end',\n",
    "             'Phase_end',\n",
    "             'mid_tr',\n",
    "             'AM_mid_tr',\n",
    "             'moon',\n",
    "             *supp_cols\n",
    "            )\n",
    "meta = {'Time_limits': [t1, t2],\n",
    "        'Target_list': pl_name.tolist(),\n",
    "        'Site': site,\n",
    "        'Phase_range': phase_range,\n",
    "        **constraints_list.show()\n",
    "       }"
   ]
  },
  {
   "cell_type": "code",
   "execution_count": 316,
   "metadata": {},
   "outputs": [],
   "source": [
    "from astroplan import PeriodicEvent"
   ]
  },
  {
   "cell_type": "code",
   "execution_count": 317,
   "metadata": {},
   "outputs": [
    {
     "name": "stderr",
     "output_type": "stream",
     "text": [
      "WARNING: ErfaWarning: ERFA function \"taiutc\" yielded 4791 of \"dubious year (Note 4)\" [astropy._erfa.core]\n",
      "WARNING: ErfaWarning: ERFA function \"taiutc\" yielded 4809 of \"dubious year (Note 4)\" [astropy._erfa.core]\n"
     ]
    }
   ],
   "source": [
    "full_table = Table()\n",
    "for itar in range(len(pl_name)):\n",
    "\n",
    "    # -------------------------\n",
    "    # Steps to predict transits\n",
    "    # -------------------------\n",
    "    try:\n",
    "        target = FixedTarget.from_name(pl_name[itar])\n",
    "    except NameResolveError as e:\n",
    "        print(e)\n",
    "        try_name = ' '.join(pl_name[itar].split(' ')[:-2])\n",
    "        print(\"Trying with {}\".format(try_name))\n",
    "        try:\n",
    "            target = FixedTarget.from_name(try_name)\n",
    "        except NameResolveError as e:\n",
    "            print(e)\n",
    "            print('Searching in masterfile for RA and dec')\n",
    "            try_radec = MasterFile.read().by_plName(pl_name[itar])\n",
    "            ra = try_radec['ra'].quantity\n",
    "            dec = try_radec['dec'].quantity\n",
    "            coord = SkyCoord(ra=ra, dec=dec)\n",
    "            target = FixedTarget(coord=coord,\n",
    "                                 name=pl_name[itar])\n",
    "            \n",
    "\n",
    "    \n",
    "    dt_grid = 0.5*u.h\n",
    "    d_phase = (dt_grid /period[itar]).decompose().value\n",
    "    [p1, p2] = phase_range\n",
    "    p1 += d_phase/10  # Make sure it's not on the boundary\n",
    "    p2 -= d_phase/10\n",
    "    phase_grid = np.arange(p1, p2, d_phase)\n",
    "    phase_grid = phase_grid*period[itar] + epoch[itar]\n",
    "    \n",
    "    t_grid = []\n",
    "    for phase in phase_grid:\n",
    "        sys = EclipsingSystem(primary_eclipse_time=phase,\n",
    "                              orbital_period=period[itar])\n",
    "        t_temp = sys.next_primary_eclipse_time(observing_time,\n",
    "                                               n_eclipses=n_eclipses)\n",
    "        t_grid.append(t_temp.jd)\n",
    "    t_grid = Time(t_grid, format='jd').T\n",
    "\n",
    "    \n",
    "    if t_grid[-1,-1] < t2:\n",
    "        warnings.warn('end time ('+t2.value +\n",
    "                      ') is passed the last computed event time (' +\n",
    "                      t_mid[-1].value+')\\n' +\n",
    "                     '\\t You can change the n_eclipse kwarg ' +\n",
    "                     'value or choose a different window (start or end time)',\n",
    "                     AstropyUserWarning\n",
    "                    )\n",
    "\n",
    "    t_grid = t_grid[(t_grid < t2).any(axis=1)]\n",
    "    \n",
    "    events = []\n",
    "    for grid in t_grid:\n",
    "        index = is_event_observable(constraints_list, obs, target, times=grid).squeeze()\n",
    "        if index.any():\n",
    "            events.append(np.mean(grid[index].jd))\n",
    "    events = Time(events, format='jd')\n",
    "    \n",
    "    # Finally add phase constraint\n",
    "    sys = PeriodicEvent(epoch=epoch[itar], period=period[itar])\n",
    "    \n",
    "    final_constraints = [*constraints_list,\n",
    "        PhaseConstraint(sys, *phase_range)]\n",
    "    \n",
    "    obs_start = min_start_times(final_constraints, obs, target, events)\n",
    "    obs_end = max_end_times(final_constraints, obs, target, events)\n",
    "    baseline = obs_end - obs_start\n",
    "    t_mid = obs_start + baseline/2\n",
    "    \n",
    "    index = (obs_end - obs_start) > obs_time\n",
    "\n",
    "    # -------------------\n",
    "    # End of steps to predict transits\n",
    "    # -------------------\n",
    "\n",
    "    # Put the infos in a table and stack it to the full table\n",
    "    if index.any():\n",
    "        name = np.repeat(target.name,index.sum()).astype(str)\n",
    "        moon = obs.moon_illumination(t_mid[index])\n",
    "        phase_start = sys.phase(obs_start[index])\n",
    "        phase_end = sys.phase(obs_end[index])\n",
    "        AM_mid = obs.altaz(t_mid[index], target).secz\n",
    "        supp = [np.repeat(data[key][itar],index.sum())\n",
    "                for key in supp_cols]\n",
    "        cols = [name,\n",
    "                obs_start[index].iso,\n",
    "                phase_start,\n",
    "                obs_end[index].iso,\n",
    "                phase_end,\n",
    "                t_mid[index].iso,\n",
    "                AM_mid,\n",
    "                moon,\n",
    "                *supp\n",
    "               ]\n",
    "        table_sys = Table(cols, names=col_names, masked=True)\n",
    "        full_table = vstack([table_sys, full_table])\n",
    "    else:\n",
    "        warnings.warn('No event found for '+sys.name, AstropyUserWarning)\n",
    "\n",
    "if full_table:\n",
    "    full_table.sort('mid_tr')\n",
    "    full_table.meta = meta\n",
    "else:\n",
    "    warnings.warn('No event found at all', AstropyUserWarning)"
   ]
  },
  {
   "cell_type": "code",
   "execution_count": 318,
   "metadata": {},
   "outputs": [
    {
     "data": {
      "text/html": [
       "<i>Table masked=True length=14</i>\n",
       "<table id=\"table139648555178472\" class=\"table-striped table-bordered table-condensed\">\n",
       "<thead><tr><th>pl_name</th><th>Obs_start</th><th>Phase_start</th><th>Obs_end</th><th>Phase_end</th><th>mid_tr</th><th>AM_mid_tr</th><th>moon</th><th>st_j</th><th>st_h</th><th>ra</th><th>dec</th><th>pl_eqt</th><th>st_teff</th></tr></thead>\n",
       "<thead><tr><th></th><th></th><th></th><th></th><th></th><th></th><th></th><th></th><th></th><th></th><th></th><th></th><th></th><th></th></tr></thead>\n",
       "<thead><tr><th>str9</th><th>str23</th><th>float64</th><th>str23</th><th>float64</th><th>str23</th><th>float64</th><th>float64</th><th>float64</th><th>float64</th><th>float32</th><th>float32</th><th>float64</th><th>float64</th></tr></thead>\n",
       "<tr><td>51 Peg b</td><td>2019-08-11 07:44:54.782</td><td>0.5250187084839435</td><td>2019-08-11 15:10:24.845</td><td>0.5981436086641285</td><td>2019-08-11 11:27:39.814</td><td>1.0099745124866908</td><td>0.8535600541530874</td><td>4.655</td><td>4.234</td><td>344.36658</td><td>20.76883</td><td>--</td><td>5793.0</td></tr>\n",
       "<tr><td>ups And b</td><td>2019-08-12 10:10:17.578</td><td>0.538726398462137</td><td>2019-08-12 15:10:18.282</td><td>0.5838509376958902</td><td>2019-08-12 12:40:17.930</td><td>1.1908999451470768</td><td>0.9189839389084999</td><td>3.175</td><td>2.957</td><td>24.19934</td><td>41.40546</td><td>--</td><td>--</td></tr>\n",
       "<tr><td>ups And b</td><td>2019-09-09 08:20:16.416</td><td>0.5866791991406927</td><td>2019-09-09 15:19:28.189</td><td>0.6497301859342143</td><td>2019-09-09 11:49:52.303</td><td>1.1018251209211758</td><td>0.8132332986630775</td><td>3.175</td><td>2.957</td><td>24.19934</td><td>41.40546</td><td>--</td><td>--</td></tr>\n",
       "<tr><td>51 Peg b</td><td>2019-09-10 05:47:22.565</td><td>0.596608758290761</td><td>2019-09-10 11:11:43.614</td><td>0.6498479620710113</td><td>2019-09-10 08:29:33.089</td><td>1.0795853521200622</td><td>0.8730751361035589</td><td>4.655</td><td>4.234</td><td>344.36658</td><td>20.76883</td><td>--</td><td>5793.0</td></tr>\n",
       "<tr><td>51 Peg b</td><td>2019-09-14 05:31:45.062</td><td>0.5394950733588774</td><td>2019-09-14 14:05:03.437</td><td>0.6237495735550396</td><td>2019-09-14 09:48:24.250</td><td>1.0001689112360876</td><td>0.9979119147030264</td><td>4.655</td><td>4.234</td><td>344.36658</td><td>20.76883</td><td>--</td><td>5793.0</td></tr>\n",
       "<tr><td>51 Peg b</td><td>2019-09-18 08:05:05.613</td><td>0.5101158570955222</td><td>2019-09-18 13:48:23.262</td><td>0.5664644342324764</td><td>2019-09-18 10:56:44.437</td><td>1.0632940875556853</td><td>0.8395982446429641</td><td>4.655</td><td>4.234</td><td>344.36658</td><td>20.76883</td><td>--</td><td>5793.0</td></tr>\n",
       "<tr><td>ups And b</td><td>2019-09-18 07:44:05.616</td><td>0.530541198187666</td><td>2019-09-18 15:21:31.492</td><td>0.5993430890150949</td><td>2019-09-18 11:32:48.554</td><td>1.0878054939434774</td><td>0.83780031131155</td><td>3.175</td><td>2.957</td><td>24.19934</td><td>41.40546</td><td>--</td><td>--</td></tr>\n",
       "<tr><td>ups And b</td><td>2019-10-11 07:30:46.391</td><td>0.5100918563624633</td><td>2019-10-11 15:08:09.748</td><td>0.578887431810984</td><td>2019-10-11 11:19:28.069</td><td>1.0878024751141289</td><td>0.946234296491285</td><td>3.175</td><td>2.957</td><td>24.19934</td><td>41.40546</td><td>--</td><td>--</td></tr>\n",
       "<tr><td>ups And b</td><td>2019-10-16 05:54:49.304</td><td>0.5786064295951524</td><td>2019-10-16 13:48:41.399</td><td>0.6498805950474048</td><td>2019-10-16 09:51:45.351</td><td>1.0829547352609012</td><td>0.9383983476025457</td><td>3.175</td><td>2.957</td><td>24.19934</td><td>41.40546</td><td>--</td><td>--</td></tr>\n",
       "<tr><td>51 Peg b</td><td>2019-10-18 04:45:18.936</td><td>0.5682068055473908</td><td>2019-10-18 11:50:42.029</td><td>0.6380298236492232</td><td>2019-10-18 08:18:00.483</td><td>1.0164516105735528</td><td>0.8145501691506508</td><td>4.655</td><td>4.234</td><td>344.36658</td><td>20.76883</td><td>--</td><td>5793.0</td></tr>\n",
       "<tr><td>51 Peg b</td><td>2019-11-08 04:34:06.018</td><td>0.5299837812534524</td><td>2019-11-08 10:28:21.150</td><td>0.5881310201223324</td><td>2019-11-08 07:31:13.584</td><td>1.0557356316431576</td><td>0.8358153382159592</td><td>4.655</td><td>4.234</td><td>344.36658</td><td>20.76883</td><td>--</td><td>5793.0</td></tr>\n",
       "<tr><td>ups And b</td><td>2019-11-08 04:34:05.974</td><td>0.5480192404772978</td><td>2019-11-08 13:17:19.655</td><td>0.626717571203812</td><td>2019-11-08 08:55:42.814</td><td>1.076308913432713</td><td>0.8398924746134989</td><td>3.175</td><td>2.957</td><td>24.19934</td><td>41.40546</td><td>--</td><td>--</td></tr>\n",
       "<tr><td>ups And b</td><td>2019-11-17 05:59:20.645</td><td>0.5101446104358404</td><td>2019-11-17 12:42:22.957</td><td>0.5707653328798225</td><td>2019-11-17 09:20:51.801</td><td>1.110352329525293</td><td>0.7647273622086568</td><td>3.175</td><td>2.957</td><td>24.19934</td><td>41.40546</td><td>--</td><td>--</td></tr>\n",
       "<tr><td>ups And b</td><td>2019-12-15 04:37:02.659</td><td>0.5622666961406274</td><td>2019-12-15 10:52:32.865</td><td>0.618745882012273</td><td>2019-12-15 07:44:47.762</td><td>1.1272168333076302</td><td>0.8877992057391</td><td>3.175</td><td>2.957</td><td>24.19934</td><td>41.40546</td><td>--</td><td>--</td></tr>\n",
       "</table>"
      ],
      "text/plain": [
       "<Table masked=True length=14>\n",
       " pl_name         Obs_start           Phase_start     ...  pl_eqt st_teff\n",
       "                                                     ...                \n",
       "   str9            str23               float64       ... float64 float64\n",
       "--------- ----------------------- ------------------ ... ------- -------\n",
       " 51 Peg b 2019-08-11 07:44:54.782 0.5250187084839435 ...      --  5793.0\n",
       "ups And b 2019-08-12 10:10:17.578  0.538726398462137 ...      --      --\n",
       "ups And b 2019-09-09 08:20:16.416 0.5866791991406927 ...      --      --\n",
       " 51 Peg b 2019-09-10 05:47:22.565  0.596608758290761 ...      --  5793.0\n",
       " 51 Peg b 2019-09-14 05:31:45.062 0.5394950733588774 ...      --  5793.0\n",
       " 51 Peg b 2019-09-18 08:05:05.613 0.5101158570955222 ...      --  5793.0\n",
       "ups And b 2019-09-18 07:44:05.616  0.530541198187666 ...      --      --\n",
       "ups And b 2019-10-11 07:30:46.391 0.5100918563624633 ...      --      --\n",
       "ups And b 2019-10-16 05:54:49.304 0.5786064295951524 ...      --      --\n",
       " 51 Peg b 2019-10-18 04:45:18.936 0.5682068055473908 ...      --  5793.0\n",
       " 51 Peg b 2019-11-08 04:34:06.018 0.5299837812534524 ...      --  5793.0\n",
       "ups And b 2019-11-08 04:34:05.974 0.5480192404772978 ...      --      --\n",
       "ups And b 2019-11-17 05:59:20.645 0.5101446104358404 ...      --      --\n",
       "ups And b 2019-12-15 04:37:02.659 0.5622666961406274 ...      --      --"
      ]
     },
     "execution_count": 318,
     "metadata": {},
     "output_type": "execute_result"
    }
   ],
   "source": [
    "full_table[full_table['moon']>0.5]"
   ]
  },
  {
   "cell_type": "code",
   "execution_count": 319,
   "metadata": {},
   "outputs": [],
   "source": [
    "# Save to CFHT form\n",
    "table_cfht = full_table[\"pl_name\",\"ra\",\"dec\",\"Obs_start\",\"Obs_end\"][full_table['moon']>0.5]\n",
    "table_cfht.rename_column('Obs_start', 'Date start (UT)')\n",
    "table_cfht.rename_column('Obs_end', 'Date end (UT)')"
   ]
  },
  {
   "cell_type": "code",
   "execution_count": 320,
   "metadata": {},
   "outputs": [
    {
     "data": {
      "text/html": [
       "<i>Table masked=True length=14</i>\n",
       "<table id=\"table139648554641224\" class=\"table-striped table-bordered table-condensed\">\n",
       "<thead><tr><th>pl_name</th><th>ra</th><th>dec</th><th>Date start (UT)</th><th>Date end (UT)</th></tr></thead>\n",
       "<thead><tr><th>str9</th><th>float32</th><th>float32</th><th>str23</th><th>str23</th></tr></thead>\n",
       "<tr><td>51 Peg b</td><td>344.36658</td><td>20.76883</td><td>2019-08-11 07:44:54.782</td><td>2019-08-11 15:10:24.845</td></tr>\n",
       "<tr><td>ups And b</td><td>24.19934</td><td>41.40546</td><td>2019-08-12 10:10:17.578</td><td>2019-08-12 15:10:18.282</td></tr>\n",
       "<tr><td>ups And b</td><td>24.19934</td><td>41.40546</td><td>2019-09-09 08:20:16.416</td><td>2019-09-09 15:19:28.189</td></tr>\n",
       "<tr><td>51 Peg b</td><td>344.36658</td><td>20.76883</td><td>2019-09-10 05:47:22.565</td><td>2019-09-10 11:11:43.614</td></tr>\n",
       "<tr><td>51 Peg b</td><td>344.36658</td><td>20.76883</td><td>2019-09-14 05:31:45.062</td><td>2019-09-14 14:05:03.437</td></tr>\n",
       "<tr><td>51 Peg b</td><td>344.36658</td><td>20.76883</td><td>2019-09-18 08:05:05.613</td><td>2019-09-18 13:48:23.262</td></tr>\n",
       "<tr><td>ups And b</td><td>24.19934</td><td>41.40546</td><td>2019-09-18 07:44:05.616</td><td>2019-09-18 15:21:31.492</td></tr>\n",
       "<tr><td>ups And b</td><td>24.19934</td><td>41.40546</td><td>2019-10-11 07:30:46.391</td><td>2019-10-11 15:08:09.748</td></tr>\n",
       "<tr><td>ups And b</td><td>24.19934</td><td>41.40546</td><td>2019-10-16 05:54:49.304</td><td>2019-10-16 13:48:41.399</td></tr>\n",
       "<tr><td>51 Peg b</td><td>344.36658</td><td>20.76883</td><td>2019-10-18 04:45:18.936</td><td>2019-10-18 11:50:42.029</td></tr>\n",
       "<tr><td>51 Peg b</td><td>344.36658</td><td>20.76883</td><td>2019-11-08 04:34:06.018</td><td>2019-11-08 10:28:21.150</td></tr>\n",
       "<tr><td>ups And b</td><td>24.19934</td><td>41.40546</td><td>2019-11-08 04:34:05.974</td><td>2019-11-08 13:17:19.655</td></tr>\n",
       "<tr><td>ups And b</td><td>24.19934</td><td>41.40546</td><td>2019-11-17 05:59:20.645</td><td>2019-11-17 12:42:22.957</td></tr>\n",
       "<tr><td>ups And b</td><td>24.19934</td><td>41.40546</td><td>2019-12-15 04:37:02.659</td><td>2019-12-15 10:52:32.865</td></tr>\n",
       "</table>"
      ],
      "text/plain": [
       "<Table masked=True length=14>\n",
       " pl_name      ra      dec        Date start (UT)          Date end (UT)     \n",
       "   str9    float32  float32           str23                   str23         \n",
       "--------- --------- -------- ----------------------- -----------------------\n",
       " 51 Peg b 344.36658 20.76883 2019-08-11 07:44:54.782 2019-08-11 15:10:24.845\n",
       "ups And b  24.19934 41.40546 2019-08-12 10:10:17.578 2019-08-12 15:10:18.282\n",
       "ups And b  24.19934 41.40546 2019-09-09 08:20:16.416 2019-09-09 15:19:28.189\n",
       " 51 Peg b 344.36658 20.76883 2019-09-10 05:47:22.565 2019-09-10 11:11:43.614\n",
       " 51 Peg b 344.36658 20.76883 2019-09-14 05:31:45.062 2019-09-14 14:05:03.437\n",
       " 51 Peg b 344.36658 20.76883 2019-09-18 08:05:05.613 2019-09-18 13:48:23.262\n",
       "ups And b  24.19934 41.40546 2019-09-18 07:44:05.616 2019-09-18 15:21:31.492\n",
       "ups And b  24.19934 41.40546 2019-10-11 07:30:46.391 2019-10-11 15:08:09.748\n",
       "ups And b  24.19934 41.40546 2019-10-16 05:54:49.304 2019-10-16 13:48:41.399\n",
       " 51 Peg b 344.36658 20.76883 2019-10-18 04:45:18.936 2019-10-18 11:50:42.029\n",
       " 51 Peg b 344.36658 20.76883 2019-11-08 04:34:06.018 2019-11-08 10:28:21.150\n",
       "ups And b  24.19934 41.40546 2019-11-08 04:34:05.974 2019-11-08 13:17:19.655\n",
       "ups And b  24.19934 41.40546 2019-11-17 05:59:20.645 2019-11-17 12:42:22.957\n",
       "ups And b  24.19934 41.40546 2019-12-15 04:37:02.659 2019-12-15 10:52:32.865"
      ]
     },
     "execution_count": 320,
     "metadata": {},
     "output_type": "execute_result"
    }
   ],
   "source": [
    "table_cfht"
   ]
  },
  {
   "cell_type": "code",
   "execution_count": 323,
   "metadata": {},
   "outputs": [],
   "source": [
    "file_name = '/home/adb/Doctorat/transit_predictions/CFHT_window_{}_{}.csv'"
   ]
  },
  {
   "cell_type": "code",
   "execution_count": 324,
   "metadata": {},
   "outputs": [],
   "source": [
    "full_table.write(file_name.format(*meta['Phase_range']),\n",
    "                 format='ascii', delimiter=',')"
   ]
  },
  {
   "cell_type": "code",
   "execution_count": 289,
   "metadata": {},
   "outputs": [],
   "source": [
    "file_name = '/home/adb/Doctorat/transit_predictions/list_of_phase_stefan_{}_{}.ecsv'"
   ]
  },
  {
   "cell_type": "code",
   "execution_count": 292,
   "metadata": {},
   "outputs": [
    {
     "name": "stderr",
     "output_type": "stream",
     "text": [
      "WARNING: AstropyDeprecationWarning: /home/adb/Doctorat/transit_predictions/list_of_phase_stefan_0.51_0.65.ecsv already exists. Automatically overwriting ASCII files is deprecated. Use the argument 'overwrite=True' in the future. [astropy.io.ascii.ui]\n"
     ]
    }
   ],
   "source": [
    "full_table.write(file_name.format(*meta['Phase_range']),\n",
    "                 delimiter=',')"
   ]
  },
  {
   "cell_type": "code",
   "execution_count": 291,
   "metadata": {},
   "outputs": [
    {
     "data": {
      "text/plain": [
       "{'Time_limits': [<Time object: scale='utc' format='iso' value=2019-08-01 00:00:00.000>,\n",
       "  <Time object: scale='utc' format='iso' value=2020-01-31 00:00:00.000>],\n",
       " 'Target_list': ['51 Peg b', 'ups And b'],\n",
       " 'Site': 'cfht',\n",
       " 'Phase_range': [0.51, 0.65],\n",
       " 'AtNightConstraint': {'max_solar_altitude': <Quantity -12. deg>,\n",
       "  'force_pressure_zero': True},\n",
       " 'AirmassConstraint': {'min': 1, 'max': 2.0, 'boolean_constraint': True},\n",
       " 'TimeConstraint': {'min': <Time object: scale='utc' format='iso' value=2019-08-01 00:00:00.000>,\n",
       "  'max': <Time object: scale='utc' format='iso' value=2020-01-31 00:00:00.000>}}"
      ]
     },
     "execution_count": 291,
     "metadata": {},
     "output_type": "execute_result"
    }
   ],
   "source": [
    "full_table.meta"
   ]
  },
  {
   "cell_type": "code",
   "execution_count": 325,
   "metadata": {},
   "outputs": [
    {
     "name": "stdout",
     "output_type": "stream",
     "text": [
      "CFHT_window_0.35_0.49.csv\t list_of_eclipses_KELT7.ecsv\r\n",
      "CFHT_window_0.51_0.65.csv\t list_of_eclipses_mascara-1-2.ecsv\r\n",
      "CFHT_window_3targets_after.csv\t list_of_eclipses_WASP33.ecsv\r\n",
      "CFHT_window_3targets_before.csv  list_of_phase_stefan_0.35_0.49.ecsv\r\n",
      "CFHT_window_KELT7.csv\t\t list_of_phase_stefan_0.4_0.48.ecsv\r\n",
      "CFHT_window_KELT7.ecsv\t\t list_of_phase_stefan_0.51_0.65.ecsv\r\n",
      "CFHT_window_WASP33_after.csv\t list_of_phase_stefan_0.52_0.6.ecsv\r\n",
      "CFHT_window_WASP33_before.csv\t list_of_transits_Boucher.ecsv\r\n",
      "list_of_eclipses_GeertJan.ecsv\t list_of_transits_mascara-1-2.ecsv\r\n"
     ]
    }
   ],
   "source": [
    "!ls /home/adb/Doctorat/transit_predictions/"
   ]
  },
  {
   "cell_type": "code",
   "execution_count": null,
   "metadata": {},
   "outputs": [],
   "source": []
  }
 ],
 "metadata": {
  "kernelspec": {
   "display_name": "Python 3",
   "language": "python",
   "name": "python3"
  },
  "language_info": {
   "codemirror_mode": {
    "name": "ipython",
    "version": 3
   },
   "file_extension": ".py",
   "mimetype": "text/x-python",
   "name": "python",
   "nbconvert_exporter": "python",
   "pygments_lexer": "ipython3",
   "version": "3.7.1"
  }
 },
 "nbformat": 4,
 "nbformat_minor": 2
}
