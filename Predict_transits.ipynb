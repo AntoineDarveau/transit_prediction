{
 "cells": [
  {
   "cell_type": "code",
   "execution_count": 2,
   "metadata": {},
   "outputs": [],
   "source": [
    "from astropy.time import Time\n",
    "import datetime as dt\n",
    "import astropy.units as u\n",
    "import warnings\n",
    "from astropy.utils.exceptions import AstropyUserWarning, AstropyWarning\n",
    "from astropy.table import vstack\n",
    "import numpy as np\n",
    "\n",
    "# Import astroplan tools and constraints\n",
    "# Other constraints are available\n",
    "from astroplan import (FixedTarget, Observer, EclipsingSystem,\n",
    "                       PrimaryEclipseConstraint, is_event_observable,\n",
    "                       AtNightConstraint, AltitudeConstraint,\n",
    "                       LocalTimeConstraint, AirmassConstraint)\n",
    "\n",
    "from masterfile import MasterFile"
   ]
  },
  {
   "cell_type": "markdown",
   "metadata": {},
   "source": [
    "# Get planets infos"
   ]
  },
  {
   "cell_type": "code",
   "execution_count": 3,
   "metadata": {},
   "outputs": [],
   "source": [
    "target_list = [\"GJ 436 b\",\n",
    "               \"GJ 1214 b\",\n",
    "               \"GJ 3470 b\",\n",
    "               \"K2-25 b\",\n",
    "               \"HD 189733 b\",\n",
    "               \"WASP-69 b\",\n",
    "               \"HAT-P-1 b\",\n",
    "               \"WASP-80 b\",\n",
    "               \"WASP-107 b\"]"
   ]
  },
  {
   "cell_type": "code",
   "execution_count": 5,
   "metadata": {},
   "outputs": [],
   "source": [
    "data = MasterFile.read().by_plName(*target_list)"
   ]
  },
  {
   "cell_type": "markdown",
   "metadata": {},
   "source": [
    "# Inputs"
   ]
  },
  {
   "cell_type": "code",
   "execution_count": 7,
   "metadata": {},
   "outputs": [],
   "source": [
    "t1, t2 = Time(['2019-02-01 00:00', '2019-07-31 00:00'])\n",
    "site = 'cfht'\n",
    "baseline = 2\n",
    "# See astroplan available constraints\n",
    "constraints = [AtNightConstraint.twilight_nautical(),\n",
    "               AirmassConstraint(max=2)\n",
    "              ]\n",
    "supp_cols = ['st_j']\n",
    "n_eclipses = 5000"
   ]
  },
  {
   "cell_type": "markdown",
   "metadata": {},
   "source": [
    "## Test if all required infos are there"
   ]
  },
  {
   "cell_type": "code",
   "execution_count": 33,
   "metadata": {},
   "outputs": [],
   "source": [
    "required_info = data['pl_name','pl_tranmid','pl_orbper','pl_trandur']"
   ]
  },
  {
   "cell_type": "code",
   "execution_count": 43,
   "metadata": {},
   "outputs": [
    {
     "name": "stdout",
     "output_type": "stream",
     "text": [
      "Add missing infos with MasterFile.insert_value()!!\n"
     ]
    },
    {
     "data": {
      "text/html": [
       "<i>MasterFile masked=True length=9</i>\n",
       "<table id=\"table139799659287552-94719\" class=\"table-striped table-bordered table-condensed\">\n",
       "<thead><tr><th>idx</th><th>pl_name</th><th>pl_tranmid</th><th>pl_orbper</th><th>pl_trandur</th></tr></thead>\n",
       "<thead><tr><th></th><th></th><th>d</th><th>d</th><th>d</th></tr></thead>\n",
       "<tr><td>0</td><td>GJ 436 b</td><td>2454510.80162</td><td>2.64388312</td><td>--</td></tr>\n",
       "<tr><td>1</td><td>GJ 1214 b</td><td>2455320.535733</td><td>1.58040456</td><td>--</td></tr>\n",
       "<tr><td>2</td><td>GJ 3470 b</td><td>2455983.70421</td><td>3.3366496</td><td>--</td></tr>\n",
       "<tr><td>3</td><td>K2-25 b</td><td>2457062.57935</td><td>3.484552</td><td>0.0329167</td></tr>\n",
       "<tr><td>4</td><td>HD 189733 b</td><td>2453955.5255511</td><td>2.21857567</td><td>0.07515</td></tr>\n",
       "<tr><td>5</td><td>WASP-69 b</td><td>--</td><td>3.86814</td><td>--</td></tr>\n",
       "<tr><td>6</td><td>HAT-P-1 b</td><td>2453979.93202</td><td>4.46529976</td><td>0.11875</td></tr>\n",
       "<tr><td>7</td><td>WASP-80 b</td><td>2456487.425006</td><td>3.06785234</td><td>0.0887917</td></tr>\n",
       "<tr><td>8</td><td>WASP-107 b</td><td>2456514.4106</td><td>5.72149</td><td>0.1147</td></tr>\n",
       "</table><style>table.dataTable {clear: both; width: auto !important; margin: 0 !important;}\n",
       ".dataTables_info, .dataTables_length, .dataTables_filter, .dataTables_paginate{\n",
       "display: inline-block; margin-right: 1em; }\n",
       ".paginate_button { margin-right: 5px; }\n",
       "</style>\n",
       "<script>\n",
       "\n",
       "var astropy_sort_num = function(a, b) {\n",
       "    var a_num = parseFloat(a);\n",
       "    var b_num = parseFloat(b);\n",
       "\n",
       "    if (isNaN(a_num) && isNaN(b_num))\n",
       "        return ((a < b) ? -1 : ((a > b) ? 1 : 0));\n",
       "    else if (!isNaN(a_num) && !isNaN(b_num))\n",
       "        return ((a_num < b_num) ? -1 : ((a_num > b_num) ? 1 : 0));\n",
       "    else\n",
       "        return isNaN(a_num) ? -1 : 1;\n",
       "}\n",
       "\n",
       "require.config({paths: {\n",
       "    datatables: 'https://cdn.datatables.net/1.10.12/js/jquery.dataTables.min'\n",
       "}});\n",
       "require([\"datatables\"], function(){\n",
       "    console.log(\"$('#table139799659287552-94719').dataTable()\");\n",
       "    \n",
       "jQuery.extend( jQuery.fn.dataTableExt.oSort, {\n",
       "    \"optionalnum-asc\": astropy_sort_num,\n",
       "    \"optionalnum-desc\": function (a,b) { return -astropy_sort_num(a, b); }\n",
       "});\n",
       "\n",
       "    $('#table139799659287552-94719').dataTable({\n",
       "        order: [],\n",
       "        pageLength: 50,\n",
       "        lengthMenu: [[10, 25, 50, 100, 500, 1000, -1], [10, 25, 50, 100, 500, 1000, 'All']],\n",
       "        pagingType: \"full_numbers\",\n",
       "        columnDefs: [{targets: [0, 2, 3, 4], type: \"optionalnum\"}]\n",
       "    });\n",
       "});\n",
       "</script>\n"
      ],
      "text/plain": [
       "<IPython.core.display.HTML object>"
      ]
     },
     "execution_count": 43,
     "metadata": {},
     "output_type": "execute_result"
    }
   ],
   "source": [
    "print('Add missing infos with MasterFile.insert_value()!!')\n",
    "required_info.show_in_notebook()"
   ]
  },
  {
   "cell_type": "markdown",
   "metadata": {},
   "source": [
    "## Define some quantities"
   ]
  },
  {
   "cell_type": "code",
   "execution_count": 9,
   "metadata": {},
   "outputs": [
    {
     "name": "stdout",
     "output_type": "stream",
     "text": [
      "Downloading http://data.astropy.org/coordinates/sites.json [Done]\n"
     ]
    }
   ],
   "source": [
    "# Define needed quantities based on planets infos\n",
    "# Must be quatities arrays (astropy)\n",
    "# Here we use a given astropy Table (data) to get the infos\n",
    "\n",
    "epoch, period, transit_duration = data.cols_2_qarr('pl_tranmid','pl_orbper','pl_trandur')\n",
    "epoch = Time(epoch, format='jd')\n",
    "pl_name = data['pl_name']\n",
    "\n",
    "\n",
    "observing_time = t1\n",
    "obs = Observer.at_site(site)\n",
    "epoch = Time(epoch, format='jd')"
   ]
  },
  {
   "cell_type": "code",
   "execution_count": 10,
   "metadata": {},
   "outputs": [
    {
     "data": {
      "text/latex": [
       "$[0,~0,~0,~0.0329167,~0.07515,~0,~0.11875,~0.0887917,~0.1147] \\; \\mathrm{d}$"
      ],
      "text/plain": [
       "<Quantity [0.       , 0.       , 0.       , 0.0329167, 0.07515  ,\n",
       "           0.       , 0.11875  , 0.0887917, 0.1147   ] d>"
      ]
     },
     "execution_count": 10,
     "metadata": {},
     "output_type": "execute_result"
    }
   ],
   "source": [
    "transit_duration"
   ]
  },
  {
   "cell_type": "markdown",
   "metadata": {},
   "source": [
    "# Compute events"
   ]
  },
  {
   "cell_type": "code",
   "execution_count": null,
   "metadata": {},
   "outputs": [],
   "source": [
    "full_table = Table()\n",
    "for itar in range(len(pl_name)):\n",
    "\n",
    "    # -------------------------\n",
    "    # Steps to predict transits\n",
    "    # -------------------------\n",
    "\n",
    "    target = FixedTarget.from_name(pl_name[itar])\n",
    "\n",
    "    sys = EclipsingSystem(primary_eclipse_time=epoch[itar],\n",
    "                          orbital_period=period[itar],\n",
    "                          duration=transit_duration[itar],\n",
    "                          name=target.name\n",
    "                         )\n",
    "    sys_baseline = EclipsingSystem(primary_eclipse_time=epoch[itar],\n",
    "                                   orbital_period=period[itar],\n",
    "                                   duration=baseline*transit_duration[itar],\n",
    "                                   name=target.name\n",
    "                                  )\n",
    "\n",
    "    t_mid = sys.next_primary_eclipse_time(observing_time, n_eclipses=n_eclipses)\n",
    "\n",
    "    if t_mid[-1] < t2:\n",
    "        warnings.warn('end time ('+t2.value +\n",
    "                      ') is passed the last computed event time (' +\n",
    "                      t_mid[-1].value+')\\n' +\n",
    "                     '\\t You can change the n_eclipse kwarg ' +\n",
    "                     'value or choose a different window (start or end time)',\n",
    "                     AstropyUserWarning\n",
    "                    )\n",
    "\n",
    "    # You can skip this step by addind a time constraint in the list of constraints\n",
    "    t_mid = t_mid[t_mid < t2]\n",
    "\n",
    "    n_event, = t_mid.shape\n",
    "\n",
    "    t_baseline = sys_baseline.next_primary_ingress_egress_time(observing_time, n_eclipses=n_event)\n",
    "\n",
    "    t1_t4 = sys.next_primary_ingress_egress_time(observing_time, n_eclipses=n_event)\n",
    "\n",
    "    index = is_event_observable(constraints_list, obs, target,\n",
    "                                times_ingress_egress=t_baseline).squeeze()\n",
    "\n",
    "    # -------------------\n",
    "    # End of steps to predict transits\n",
    "    # -------------------\n",
    "\n",
    "    # Put the infos in a table and stack it to the full table\n",
    "    if index.any():\n",
    "        name = np.repeat(sys.name,index.sum()).astype(str)\n",
    "        moon = obs.moon_illumination(t_mid[index])\n",
    "        AM_mid = obs.altaz(t_mid[index], target).secz\n",
    "        AM_t1_t4 = obs.altaz(t1_t4[index], target).secz\n",
    "        AM_base = obs.altaz(t_baseline[index], target).secz\n",
    "        supp = [np.repeat(data[key][itar],index.sum())\n",
    "                for key in supp_cols]\n",
    "        cols = [name,\n",
    "                t_mid[index].iso,\n",
    "                AM_mid,\n",
    "                *t1_t4[index].T.iso,\n",
    "                *AM_t1_t4.T,\n",
    "                *t_baseline[index].T.iso,\n",
    "                *AM_base.T,\n",
    "                moon,\n",
    "                *supp\n",
    "               ]\n",
    "        table_sys = Table(cols, names=names, masked=True)\n",
    "        full_table = vstack([table_sys, full_table])\n",
    "    else:\n",
    "        warnings.warn('No event found for '+sys.name, AstropyUserWarning)\n",
    "\n",
    "full_table.sort('mid_tr')\n",
    "full_table.meta = meta"
   ]
  },
  {
   "cell_type": "markdown",
   "metadata": {},
   "source": [
    "## Save file"
   ]
  },
  {
   "cell_type": "code",
   "execution_count": null,
   "metadata": {},
   "outputs": [],
   "source": [
    "full_table.write('list_of_transits.ecsv', delimiter=',')"
   ]
  }
 ],
 "metadata": {
  "kernelspec": {
   "display_name": "Python 3",
   "language": "python",
   "name": "python3"
  },
  "language_info": {
   "codemirror_mode": {
    "name": "ipython",
    "version": 3
   },
   "file_extension": ".py",
   "mimetype": "text/x-python",
   "name": "python",
   "nbconvert_exporter": "python",
   "pygments_lexer": "ipython3",
   "version": "3.7.1"
  }
 },
 "nbformat": 4,
 "nbformat_minor": 2
}
