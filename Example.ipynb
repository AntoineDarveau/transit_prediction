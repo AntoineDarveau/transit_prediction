{
 "cells": [
  {
   "cell_type": "code",
   "execution_count": 1,
   "metadata": {},
   "outputs": [],
   "source": [
    "from astropy.table import Table\n",
    "from warnings import catch_warnings, warn"
   ]
  },
  {
   "cell_type": "markdown",
   "metadata": {},
   "source": [
    "# Predict phases observations"
   ]
  },
  {
   "cell_type": "code",
   "execution_count": 2,
   "metadata": {},
   "outputs": [
    {
     "name": "stderr",
     "output_type": "stream",
     "text": [
      "WARNING: AstropyDeprecationWarning: astropy.extern.six will be removed in 4.0, use the six module directly if it is still needed [astropy.extern.six]\n"
     ]
    }
   ],
   "source": [
    "from predict_phase_curve import PredictPhase"
   ]
  },
  {
   "cell_type": "code",
   "execution_count": 3,
   "metadata": {},
   "outputs": [],
   "source": [
    "# Parameters\n",
    "time_range = ['2020-02-01 00:00', '2020-07-31 00:00']"
   ]
  },
  {
   "cell_type": "markdown",
   "metadata": {},
   "source": [
    "## Using the masterfile to get infos on the system\n",
    "If the masterfile is installed, it is simpler to use it. It is already included in this code."
   ]
  },
  {
   "cell_type": "code",
   "execution_count": 4,
   "metadata": {},
   "outputs": [],
   "source": [
    "from sys import path\n",
    "path.append('/home/adb/masterfile/')"
   ]
  },
  {
   "cell_type": "code",
   "execution_count": 5,
   "metadata": {},
   "outputs": [
    {
     "name": "stderr",
     "output_type": "stream",
     "text": [
      "/home/adb/masterfile/masterfile/archive.py:332: GetLocalFileWarning: DID NOT READ CUSTOM FILE. FileNotFoundError has occur when trying to query/read custom file.\n",
      "  warn(GetLocalFileWarning(file='custom file', err=e))\n",
      "/home/adb/MyLib/transit_prediction/predict_phase_curve.py:156: UserWarning: 'pl_phase_zero' not available. Taking 'pl_tranmid' instead.\n",
      "  + \" Taking 'pl_tranmid' instead.\")\n",
      "WARNING: ErfaWarning: ERFA function \"taiutc\" yielded 685 of \"dubious year (Note 4)\" [warnings]\n",
      "WARNING: OldEarthOrientationDataWarning: For best precision (on the order of arcseconds), you must download an up-to-date IERS Bulletin A table. To do so, run:\n",
      "\n",
      ">>> from astroplan import download_IERS_A\n",
      ">>> download_IERS_A()\n",
      " [warnings]\n"
     ]
    }
   ],
   "source": [
    "# Define a prediction object\n",
    "infos = PredictPhase(time_range, ['HD 189733 b'])\n",
    "\n",
    "# Get observable events ---- \n",
    "\n",
    "# Catch warnings to make sure only one of each appears\n",
    "with catch_warnings(record=True) as w:\n",
    "    events = infos.predict([0.35, 0.49])\n",
    "# Print warnings only once\n",
    "for w_i in w:\n",
    "    warn(w_i.message)"
   ]
  },
  {
   "cell_type": "markdown",
   "metadata": {},
   "source": [
    "## Without using the masterfile"
   ]
  },
  {
   "cell_type": "code",
   "execution_count": 8,
   "metadata": {},
   "outputs": [],
   "source": [
    "import astropy.units as u"
   ]
  },
  {
   "cell_type": "code",
   "execution_count": 9,
   "metadata": {},
   "outputs": [],
   "source": [
    "# Table of system information\n",
    "data = Table({'pl_name': ['HD 189733 b', 'tau Boo b'],\n",
    "              'pl_phase_zero': [2453955.525600, 2455652.1080] * u.d,\n",
    "              'pl_orbper': [2.21857567, 3.3124568] * u.d\n",
    "             })"
   ]
  },
  {
   "cell_type": "code",
   "execution_count": 12,
   "metadata": {},
   "outputs": [
    {
     "name": "stderr",
     "output_type": "stream",
     "text": [
      "WARNING: ErfaWarning: ERFA function \"taiutc\" yielded 685 of \"dubious year (Note 4)\" [warnings]\n",
      "WARNING: OldEarthOrientationDataWarning: For best precision (on the order of arcseconds), you must download an up-to-date IERS Bulletin A table. To do so, run:\n",
      "\n",
      ">>> from astroplan import download_IERS_A\n",
      ">>> download_IERS_A()\n",
      " [warnings]\n",
      "WARNING: ErfaWarning: ERFA function \"taiutc\" yielded 789 of \"dubious year (Note 4)\" [warnings]\n"
     ]
    }
   ],
   "source": [
    "# Define a prediction object\n",
    "infos = PredictPhase(time_range, data)\n",
    "\n",
    "# Get observable events ---- \n",
    "\n",
    "# Catch warnings to make sure only one of each appears\n",
    "with catch_warnings(record=True) as w:\n",
    "    events = infos.predict([0.35, 0.49])\n",
    "# Print warnings only once\n",
    "for w_i in w:\n",
    "    warn(w_i.message)"
   ]
  },
  {
   "cell_type": "code",
   "execution_count": 8,
   "metadata": {},
   "outputs": [
    {
     "data": {
      "text/html": [
       "<i>Table masked=True length=42</i>\n",
       "<table id=\"table139952003614224\" class=\"table-striped table-bordered table-condensed\">\n",
       "<thead><tr><th>pl_name</th><th>Obs_start</th><th>Phase_start</th><th>Obs_end</th><th>Phase_end</th><th>mid_tr</th><th>AM_mid_tr</th><th>moon</th><th>pl_orbper</th><th>st_j</th><th>st_h</th><th>ra</th><th>dec</th><th>pl_eqt</th><th>st_teff</th></tr></thead>\n",
       "<thead><tr><th></th><th></th><th></th><th></th><th></th><th></th><th></th><th></th><th></th><th></th><th></th><th></th><th></th><th></th><th></th></tr></thead>\n",
       "<thead><tr><th>str11</th><th>str23</th><th>float64</th><th>str23</th><th>float64</th><th>str23</th><th>float64</th><th>float64</th><th>float64</th><th>float64</th><th>float64</th><th>float64</th><th>float64</th><th>float64</th><th>float64</th></tr></thead>\n",
       "<tr><td>tau Boo b</td><td>2020-02-03 10:35:46.203</td><td>0.3586950026954786</td><td>2020-02-03 16:07:17.725</td><td>0.42819808270963794</td><td>2020-02-03 13:21:31.964</td><td>1.1275713877674676</td><td>0.6456284719376904</td><td>3.3124568</td><td>3.617</td><td>3.546</td><td>206.815598</td><td>17.456905</td><td>--</td><td>--</td></tr>\n",
       "<tr><td>tau Boo b</td><td>2020-02-13 09:57:08.303</td><td>0.3695033124931207</td><td>2020-02-13 16:03:06.528</td><td>0.4462276678401107</td><td>2020-02-13 13:00:07.415</td><td>1.088773722175938</td><td>0.7595747988971522</td><td>3.3124568</td><td>3.617</td><td>3.546</td><td>206.815598</td><td>17.456905</td><td>--</td><td>--</td></tr>\n",
       "<tr><td>tau Boo b</td><td>2020-02-23 09:17:41.631</td><td>0.3801412053280837</td><td>2020-02-23 15:57:55.330</td><td>0.4640476066431046</td><td>2020-02-23 12:37:48.481</td><td>1.0595103010850668</td><td>0.001493519202972693</td><td>3.3124568</td><td>3.617</td><td>3.546</td><td>206.815598</td><td>17.456905</td><td>--</td><td>--</td></tr>\n",
       "<tr><td>tau Boo b</td><td>2020-03-04 08:38:28.588</td><td>0.390826717834483</td><td>2020-03-04 15:50:44.133</td><td>0.48144825236940436</td><td>2020-03-04 12:14:36.360</td><td>1.037797377007011</td><td>0.6712747128266009</td><td>3.3124568</td><td>3.617</td><td>3.546</td><td>206.815598</td><td>17.456905</td><td>--</td><td>--</td></tr>\n",
       "<tr><td>tau Boo b</td><td>2020-03-14 07:58:37.595</td><td>0.40137963372143254</td><td>2020-03-14 15:00:32.935</td><td>0.4898341064358502</td><td>2020-03-14 11:29:35.265</td><td>1.044851868889806</td><td>0.7053377453731544</td><td>3.3124568</td><td>3.617</td><td>3.546</td><td>206.815598</td><td>17.456905</td><td>--</td><td>--</td></tr>\n",
       "<tr><td>tau Boo b</td><td>2020-03-17 11:23:29.257</td><td>0.3500001872548394</td><td>2020-03-17 15:39:29.203</td><td>0.40366946124421627</td><td>2020-03-17 13:31:29.230</td><td>1.036674456298614</td><td>0.3809839964854154</td><td>3.3124568</td><td>3.617</td><td>3.546</td><td>206.815598</td><td>17.456905</td><td>--</td><td>--</td></tr>\n",
       "<tr><td>tau Boo b</td><td>2020-03-24 07:19:24.588</td><td>0.4120652749980362</td><td>2020-03-24 13:30:21.738</td><td>0.4898341064190904</td><td>2020-03-24 10:24:53.163</td><td>1.0849322032157314</td><td>0.0019145930213614326</td><td>3.3124568</td><td>3.617</td><td>3.546</td><td>206.815598</td><td>17.456905</td><td>--</td><td>--</td></tr>\n",
       "<tr><td>tau Boo b</td><td>2020-03-27 09:54:12.562</td><td>0.35019062515596494</td><td>2020-03-27 15:31:18.005</td><td>0.420860460783616</td><td>2020-03-27 12:42:45.284</td><td>1.0266553303850985</td><td>0.08771496463125605</td><td>3.3124568</td><td>3.617</td><td>3.546</td><td>206.815598</td><td>17.456905</td><td>--</td><td>--</td></tr>\n",
       "<tr><td>tau Boo b</td><td>2020-04-03 06:40:03.417</td><td>0.42272238720774113</td><td>2020-04-03 12:00:10.540</td><td>0.48983410682406714</td><td>2020-04-03 09:20:06.979</td><td>1.1414048470170715</td><td>0.7079178979064689</td><td>3.3124568</td><td>3.617</td><td>3.546</td><td>206.815598</td><td>17.456905</td><td>--</td><td>--</td></tr>\n",
       "<tr><td>...</td><td>...</td><td>...</td><td>...</td><td>...</td><td>...</td><td>...</td><td>...</td><td>...</td><td>...</td><td>...</td><td>...</td><td>...</td><td>...</td><td>...</td></tr>\n",
       "<tr><td>HD 189733 b</td><td>2020-06-27 11:11:45.005</td><td>0.3502056736769407</td><td>2020-06-27 14:51:05.580</td><td>0.41886299850720393</td><td>2020-06-27 13:01:25.292</td><td>1.0343059342059067</td><td>0.40946740762681905</td><td>2.21857567</td><td>6.073</td><td>5.587</td><td>300.182129</td><td>22.710854</td><td>1191.0</td><td>5052.0</td></tr>\n",
       "<tr><td>tau Boo b</td><td>2020-06-28 05:58:52.425</td><td>0.37669122172806385</td><td>2020-06-28 10:23:33.496</td><td>0.43218136362311815</td><td>2020-06-28 08:11:12.960</td><td>1.2242911827204885</td><td>0.5008580298494536</td><td>3.3124568</td><td>3.617</td><td>3.546</td><td>206.815598</td><td>17.456905</td><td>--</td><td>--</td></tr>\n",
       "<tr><td>HD 189733 b</td><td>2020-07-04 06:45:17.131</td><td>0.42197611467016316</td><td>2020-07-04 10:22:20.393</td><td>0.4899170946816176</td><td>2020-07-04 08:33:48.762</td><td>1.3355293864813795</td><td>0.9913908663565103</td><td>2.21857567</td><td>6.073</td><td>5.587</td><td>300.182129</td><td>22.710854</td><td>1191.0</td><td>5052.0</td></tr>\n",
       "<tr><td>HD 189733 b</td><td>2020-07-06 08:10:17.075</td><td>0.35006126426444956</td><td>2020-07-06 14:55:05.331</td><td>0.4767705200606474</td><td>2020-07-06 11:32:41.203</td><td>1.001960608333328</td><td>0.98036210075676</td><td>2.21857567</td><td>6.073</td><td>5.587</td><td>300.182129</td><td>22.710854</td><td>1191.0</td><td>5052.0</td></tr>\n",
       "<tr><td>tau Boo b</td><td>2020-07-08 05:59:13.425</td><td>0.39567189416939064</td><td>2020-07-08 09:44:22.299</td><td>0.44287332729183126</td><td>2020-07-08 07:51:47.862</td><td>1.3039083116926298</td><td>0.8935242779491244</td><td>3.3124568</td><td>3.617</td><td>3.546</td><td>206.815598</td><td>17.456905</td><td>--</td><td>--</td></tr>\n",
       "<tr><td>HD 189733 b</td><td>2020-07-15 06:02:27.527</td><td>0.36670680783623005</td><td>2020-07-15 12:36:05.083</td><td>0.4899170928181503</td><td>2020-07-15 09:19:16.305</td><td>1.0713714115027344</td><td>0.2783235598356414</td><td>2.21857567</td><td>6.073</td><td>5.587</td><td>300.182129</td><td>22.710854</td><td>1191.0</td><td>5052.0</td></tr>\n",
       "<tr><td>HD 189733 b</td><td>2020-07-17 10:24:05.159</td><td>0.350078971618804</td><td>2020-07-17 14:59:50.021</td><td>0.43639176155895015</td><td>2020-07-17 12:41:57.590</td><td>1.1371888490812718</td><td>0.11261723094684878</td><td>2.21857567</td><td>6.073</td><td>5.587</td><td>300.182129</td><td>22.710854</td><td>1191.0</td><td>5052.0</td></tr>\n",
       "<tr><td>tau Boo b</td><td>2020-07-18 05:56:52.323</td><td>0.41408616440007556</td><td>2020-07-18 09:05:11.101</td><td>0.4535652908199656</td><td>2020-07-18 07:31:01.712</td><td>1.3968723517505706</td><td>0.06665328253323438</td><td>3.3124568</td><td>3.617</td><td>3.546</td><td>206.815598</td><td>17.456905</td><td>--</td><td>--</td></tr>\n",
       "<tr><td>HD 189733 b</td><td>2020-07-24 05:54:11.833</td><td>0.4207775911317314</td><td>2020-07-24 09:35:04.834</td><td>0.48991709455971333</td><td>2020-07-24 07:44:38.334</td><td>1.2166205872345954</td><td>0.1626394755870944</td><td>2.21857567</td><td>6.073</td><td>5.587</td><td>300.182129</td><td>22.710854</td><td>1191.0</td><td>5052.0</td></tr>\n",
       "<tr><td>HD 189733 b</td><td>2020-07-26 07:23:29.658</td><td>0.3502080752017418</td><td>2020-07-26 14:49:49.772</td><td>0.48991709242392706</td><td>2020-07-26 11:06:39.715</td><td>1.0335047346792676</td><td>0.38002212604157415</td><td>2.21857567</td><td>6.073</td><td>5.587</td><td>300.182129</td><td>22.710854</td><td>1191.0</td><td>5052.0</td></tr>\n",
       "</table>"
      ],
      "text/plain": [
       "<Table masked=True length=42>\n",
       "  pl_name          Obs_start            Phase_start     ...  pl_eqt st_teff\n",
       "                                                        ...                \n",
       "   str11             str23                float64       ... float64 float64\n",
       "----------- ----------------------- ------------------- ... ------- -------\n",
       "  tau Boo b 2020-02-03 10:35:46.203  0.3586950026954786 ...      --      --\n",
       "  tau Boo b 2020-02-13 09:57:08.303  0.3695033124931207 ...      --      --\n",
       "  tau Boo b 2020-02-23 09:17:41.631  0.3801412053280837 ...      --      --\n",
       "  tau Boo b 2020-03-04 08:38:28.588   0.390826717834483 ...      --      --\n",
       "  tau Boo b 2020-03-14 07:58:37.595 0.40137963372143254 ...      --      --\n",
       "  tau Boo b 2020-03-17 11:23:29.257  0.3500001872548394 ...      --      --\n",
       "  tau Boo b 2020-03-24 07:19:24.588  0.4120652749980362 ...      --      --\n",
       "  tau Boo b 2020-03-27 09:54:12.562 0.35019062515596494 ...      --      --\n",
       "  tau Boo b 2020-04-03 06:40:03.417 0.42272238720774113 ...      --      --\n",
       "        ...                     ...                 ... ...     ...     ...\n",
       "HD 189733 b 2020-06-27 11:11:45.005  0.3502056736769407 ...  1191.0  5052.0\n",
       "  tau Boo b 2020-06-28 05:58:52.425 0.37669122172806385 ...      --      --\n",
       "HD 189733 b 2020-07-04 06:45:17.131 0.42197611467016316 ...  1191.0  5052.0\n",
       "HD 189733 b 2020-07-06 08:10:17.075 0.35006126426444956 ...  1191.0  5052.0\n",
       "  tau Boo b 2020-07-08 05:59:13.425 0.39567189416939064 ...      --      --\n",
       "HD 189733 b 2020-07-15 06:02:27.527 0.36670680783623005 ...  1191.0  5052.0\n",
       "HD 189733 b 2020-07-17 10:24:05.159   0.350078971618804 ...  1191.0  5052.0\n",
       "  tau Boo b 2020-07-18 05:56:52.323 0.41408616440007556 ...      --      --\n",
       "HD 189733 b 2020-07-24 05:54:11.833  0.4207775911317314 ...  1191.0  5052.0\n",
       "HD 189733 b 2020-07-26 07:23:29.658  0.3502080752017418 ...  1191.0  5052.0"
      ]
     },
     "execution_count": 8,
     "metadata": {},
     "output_type": "execute_result"
    }
   ],
   "source": [
    "events"
   ]
  },
  {
   "cell_type": "code",
   "execution_count": null,
   "metadata": {},
   "outputs": [],
   "source": []
  }
 ],
 "metadata": {
  "kernelspec": {
   "display_name": "Python 3",
   "language": "python",
   "name": "python3"
  },
  "language_info": {
   "codemirror_mode": {
    "name": "ipython",
    "version": 3
   },
   "file_extension": ".py",
   "mimetype": "text/x-python",
   "name": "python",
   "nbconvert_exporter": "python",
   "pygments_lexer": "ipython3",
   "version": "3.7.5"
  }
 },
 "nbformat": 4,
 "nbformat_minor": 2
}
