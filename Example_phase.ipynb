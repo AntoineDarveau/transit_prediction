{
 "cells": [
  {
   "cell_type": "code",
   "execution_count": 1,
   "metadata": {},
   "outputs": [],
   "source": [
    "from warnings import catch_warnings, warn"
   ]
  },
  {
   "cell_type": "markdown",
   "metadata": {},
   "source": [
    "# Predict phases observations"
   ]
  },
  {
   "cell_type": "code",
   "execution_count": 2,
   "metadata": {},
   "outputs": [],
   "source": [
    "from predict import PredictPhase"
   ]
  },
  {
   "cell_type": "code",
   "execution_count": 3,
   "metadata": {},
   "outputs": [],
   "source": [
    "# Parameters\n",
    "time_range = ['2020-07-31 12:00', '2021-01-31 00:00']"
   ]
  },
  {
   "cell_type": "markdown",
   "metadata": {},
   "source": [
    "## Using the masterfile to get infos on the system\n",
    "If the masterfile is installed, it is simpler to use it. It is already included in this code."
   ]
  },
  {
   "cell_type": "code",
   "execution_count": 4,
   "metadata": {},
   "outputs": [],
   "source": [
    "# Load the masterfile package\n",
    "# 3 options depending on your instalation of the masterfile\n",
    "\n",
    "# 1. (Best option) masterfile directory\n",
    "#    is already added to your $PYTHONPATH\n",
    "\n",
    "print('Nothing to do!')\n",
    "\n",
    "# 2. Add the masterfile directory to your path\n",
    "\n",
    "# from sys import path\n",
    "# path.append('path/to/your/masterfile/')\n",
    "\n",
    "# 3. (Not recommanded) \n",
    "#    Add these lines if you're working on the astro.umontreal\n",
    "#    servers and did not install the masterfile\n",
    "\n",
    "# from sys import path\n",
    "# path.append('/home/adb/masterfile/')"
   ]
  },
  {
   "cell_type": "code",
   "execution_count": 5,
   "metadata": {},
   "outputs": [
    {
     "name": "stderr",
     "output_type": "stream",
     "text": [
      "/Users/antoinedb/Documents/Doctorat/masterfile/masterfile/archive.py:365: GetLocalFileWarning: DID NOT READ CUSTOM FILE. FileNotFoundError has occur when trying to query/read custom file.\n",
      "  warn(GetLocalFileWarning(file='custom file', err=e))\n",
      "/Users/antoinedb/Documents/Doctorat/transit_prediction/predict.py:195: UserWarning: 'pl_phase_zero' not available. Taking 'pl_tranmid' instead.\n",
      "  + \" Taking 'pl_tranmid' instead.\")\n"
     ]
    }
   ],
   "source": [
    "# Define a prediction object\n",
    "infos = PredictPhase(time_range, ['WASP-12 b'])"
   ]
  },
  {
   "cell_type": "code",
   "execution_count": 32,
   "metadata": {},
   "outputs": [
    {
     "name": "stderr",
     "output_type": "stream",
     "text": [
      "WARNING: ErfaWarning: ERFA function \"taiutc\" yielded 26 of \"dubious year (Note 4)\" [warnings]\n",
      "WARNING: OldEarthOrientationDataWarning: For best precision (on the order of arcseconds), you must download an up-to-date IERS Bulletin A table. To do so, run:\n",
      "\n",
      ">>> from astroplan import download_IERS_A\n",
      ">>> download_IERS_A()\n",
      " [warnings]\n"
     ]
    }
   ],
   "source": [
    "# Get observable events ---- \n",
    "\n",
    "# Catch warnings to make sure only one of each appears\n",
    "with catch_warnings(record=True) as w:\n",
    "    events = infos.predict([0.05, 0.25], obs_time=3., dt_grid=0.5)\n",
    "# Print warnings only once\n",
    "for w_i in w:\n",
    "    warn(w_i.message)"
   ]
  },
  {
   "cell_type": "code",
   "execution_count": 33,
   "metadata": {},
   "outputs": [
    {
     "data": {
      "text/html": [
       "<i>Table masked=True length=33</i>\n",
       "<table id=\"table139777939178896\" class=\"table-striped table-bordered table-condensed\">\n",
       "<thead><tr><th>pl_name</th><th>Obs_start</th><th>Phase_start</th><th>Obs_end</th><th>Phase_end</th><th>mid_tr</th><th>AM_mid_tr</th><th>moon</th><th>pl_orbper</th><th>st_j</th><th>st_h</th><th>ra</th><th>dec</th><th>pl_eqt</th><th>st_teff</th></tr></thead>\n",
       "<thead><tr><th></th><th></th><th></th><th></th><th></th><th></th><th></th><th></th><th></th><th></th><th></th><th></th><th></th><th></th><th></th></tr></thead>\n",
       "<thead><tr><th>str9</th><th>str23</th><th>float64</th><th>str23</th><th>float64</th><th>str23</th><th>float64</th><th>float64</th><th>float64</th><th>float64</th><th>float64</th><th>float64</th><th>float64</th><th>int64</th><th>float64</th></tr></thead>\n",
       "<tr><td>WASP-12 b</td><td>2020-09-23 11:48:50.739</td><td>0.11903489783214011</td><td>2020-09-23 15:14:20.838</td><td>0.2497906869807141</td><td>2020-09-23 13:31:35.788</td><td>1.392325687129823</td><td>0.4447147947689256</td><td>1.09142</td><td>10.477</td><td>10.228</td><td>97.63664</td><td>29.672291</td><td>2593</td><td>6360.0</td></tr>\n",
       "<tr><td>WASP-12 b</td><td>2020-09-24 12:12:56.127</td><td>0.05060023095817461</td><td>2020-09-24 15:22:59.526</td><td>0.17152872848228873</td><td>2020-09-24 13:47:57.827</td><td>1.299266724172244</td><td>0.5546845991914499</td><td>1.09142</td><td>10.477</td><td>10.228</td><td>97.63664</td><td>29.672291</td><td>2593</td><td>6360.0</td></tr>\n",
       "<tr><td>WASP-12 b</td><td>2020-10-05 11:02:09.827</td><td>0.0841830875361391</td><td>2020-10-05 15:22:26.406</td><td>0.2497906856573279</td><td>2020-10-05 13:12:18.116</td><td>1.269546799311668</td><td>0.883684700715778</td><td>1.09142</td><td>10.477</td><td>10.228</td><td>97.63664</td><td>29.672291</td><td>2593</td><td>6360.0</td></tr>\n",
       "<tr><td>WASP-12 b</td><td>2020-10-06 12:20:18.588</td><td>0.05014309848813884</td><td>2020-10-06 15:26:05.094</td><td>0.16834734863128115</td><td>2020-10-06 13:53:11.841</td><td>1.1367983184148118</td><td>0.8145860948184745</td><td>1.09142</td><td>10.477</td><td>10.228</td><td>97.63664</td><td>29.672291</td><td>2593</td><td>6360.0</td></tr>\n",
       "<tr><td>WASP-12 b</td><td>2020-10-16 10:18:15.368</td><td>0.1348588851216974</td><td>2020-10-16 13:18:53.286</td><td>0.24979068736327018</td><td>2020-10-16 11:48:34.327</td><td>1.4618526418095699</td><td>0.0031736562899954412</td><td>1.09142</td><td>10.477</td><td>10.228</td><td>97.63664</td><td>29.672291</td><td>2593</td><td>6360.0</td></tr>\n",
       "<tr><td>WASP-12 b</td><td>2020-10-17 10:17:30.553</td><td>0.05062119894101605</td><td>2020-10-17 15:28:31.974</td><td>0.24851813224024297</td><td>2020-10-17 12:53:01.263</td><td>1.179304495665414</td><td>0.009207853709377156</td><td>1.09142</td><td>10.477</td><td>10.228</td><td>97.63664</td><td>29.672291</td><td>2593</td><td>6360.0</td></tr>\n",
       "<tr><td>WASP-12 b</td><td>2020-10-18 12:28:46.467</td><td>0.050379693477463114</td><td>2020-10-18 15:29:10.662</td><td>0.1651659675003045</td><td>2020-10-18 13:58:58.565</td><td>1.0493797575978974</td><td>0.04820314653441099</td><td>1.09142</td><td>10.477</td><td>10.228</td><td>97.63664</td><td>29.672291</td><td>2593</td><td>6360.0</td></tr>\n",
       "<tr><td>WASP-12 b</td><td>2020-10-28 09:31:10.345</td><td>0.09975138862735251</td><td>2020-10-28 13:26:58.854</td><td>0.24979068646654032</td><td>2020-10-28 11:29:04.600</td><td>1.3212492241621805</td><td>0.9126731849436387</td><td>1.09142</td><td>10.477</td><td>10.228</td><td>97.63664</td><td>29.672291</td><td>2593</td><td>6360.0</td></tr>\n",
       "<tr><td>WASP-12 b</td><td>2020-10-29 10:25:35.685</td><td>0.05061657607590977</td><td>2020-10-29 15:32:37.542</td><td>0.24597302800942838</td><td>2020-10-29 12:59:06.613</td><td>1.0703003057741152</td><td>0.9604465738548391</td><td>1.09142</td><td>10.477</td><td>10.228</td><td>97.63664</td><td>29.672291</td><td>2593</td><td>6360.0</td></tr>\n",
       "<tr><td>...</td><td>...</td><td>...</td><td>...</td><td>...</td><td>...</td><td>...</td><td>...</td><td>...</td><td>...</td><td>...</td><td>...</td><td>...</td><td>...</td><td>...</td></tr>\n",
       "<tr><td>WASP-12 b</td><td>2020-12-27 08:54:13.795</td><td>0.050499487742647294</td><td>2020-12-27 14:07:26.694</td><td>0.24979068454282927</td><td>2020-12-27 11:30:50.245</td><td>1.0472032164034917</td><td>0.9325025248665813</td><td>1.09142</td><td>10.477</td><td>10.228</td><td>97.63664</td><td>29.672291</td><td>2593</td><td>6360.0</td></tr>\n",
       "<tr><td>WASP-12 b</td><td>2020-12-28 11:05:48.617</td><td>0.05045848261021316</td><td>2020-12-28 15:17:05.382</td><td>0.21034156874212218</td><td>2020-12-28 13:11:26.999</td><td>1.287859880976089</td><td>0.9750189109677297</td><td>1.09142</td><td>10.477</td><td>10.228</td><td>97.63664</td><td>29.672291</td><td>2593</td><td>6360.0</td></tr>\n",
       "<tr><td>WASP-12 b</td><td>2021-01-06 04:56:21.222</td><td>0.06152016114820603</td><td>2021-01-06 09:52:14.886</td><td>0.24979068458488005</td><td>2021-01-06 07:24:18.054</td><td>1.2093580223205438</td><td>0.5117399618400597</td><td>1.09142</td><td>10.477</td><td>10.228</td><td>97.63664</td><td>29.672291</td><td>2593</td><td>6360.0</td></tr>\n",
       "<tr><td>WASP-12 b</td><td>2021-01-07 06:50:00.076</td><td>0.05006895008639763</td><td>2021-01-07 12:03:53.574</td><td>0.2497906845421461</td><td>2021-01-07 09:26:56.825</td><td>1.0175530842885274</td><td>0.3886927427770633</td><td>1.09142</td><td>10.477</td><td>10.228</td><td>97.63664</td><td>29.672291</td><td>2593</td><td>6360.0</td></tr>\n",
       "<tr><td>WASP-12 b</td><td>2021-01-08 09:01:38.802</td><td>0.05006935024733183</td><td>2021-01-08 14:15:32.262</td><td>0.24979068449941214</td><td>2021-01-08 11:38:35.532</td><td>1.1367154117249973</td><td>0.2705036992176838</td><td>1.09142</td><td>10.477</td><td>10.228</td><td>97.63664</td><td>29.672291</td><td>2593</td><td>6360.0</td></tr>\n",
       "<tr><td>WASP-12 b</td><td>2021-01-09 11:13:18.462</td><td>0.0500796531024428</td><td>2021-01-09 14:30:10.950</td><td>0.17534638484202109</td><td>2021-01-09 12:51:44.706</td><td>1.4151415147975905</td><td>0.16964711237152696</td><td>1.09142</td><td>10.477</td><td>10.228</td><td>97.63664</td><td>29.672291</td><td>2593</td><td>6360.0</td></tr>\n",
       "<tr><td>WASP-12 b</td><td>2021-01-18 04:56:15.869</td><td>0.056314138993638393</td><td>2021-01-18 10:00:20.454</td><td>0.2497906849681193</td><td>2021-01-18 07:28:18.162</td><td>1.0895182950035154</td><td>0.26538780140245877</td><td>1.09142</td><td>10.477</td><td>10.228</td><td>97.63664</td><td>29.672291</td><td>2593</td><td>6360.0</td></tr>\n",
       "<tr><td>WASP-12 b</td><td>2021-01-19 06:58:55.234</td><td>0.05059482534274701</td><td>2021-01-19 12:11:59.142</td><td>0.24979068449872896</td><td>2021-01-19 09:35:27.188</td><td>1.0263769360004014</td><td>0.36298302219205225</td><td>1.09142</td><td>10.477</td><td>10.228</td><td>97.63664</td><td>29.672291</td><td>2593</td><td>6360.0</td></tr>\n",
       "<tr><td>WASP-12 b</td><td>2021-01-20 09:10:34.413</td><td>0.0506000352008572</td><td>2021-01-20 13:46:37.830</td><td>0.22624847029591227</td><td>2021-01-20 11:28:36.121</td><td>1.2418950539366218</td><td>0.4638448191906316</td><td>1.09142</td><td>10.477</td><td>10.228</td><td>97.63664</td><td>29.672291</td><td>2593</td><td>6360.0</td></tr>\n",
       "<tr><td>WASP-12 b</td><td>2021-01-30 05:02:50.947</td><td>0.05535452521885579</td><td>2021-01-30 10:08:26.022</td><td>0.24979068492470216</td><td>2021-01-30 07:35:38.484</td><td>1.0272775647835615</td><td>0.9709051647487066</td><td>1.09142</td><td>10.477</td><td>10.228</td><td>97.63664</td><td>29.672291</td><td>2593</td><td>6360.0</td></tr>\n",
       "</table>"
      ],
      "text/plain": [
       "<Table masked=True length=33>\n",
       " pl_name         Obs_start            Phase_start      ... pl_eqt st_teff\n",
       "                                                       ...               \n",
       "   str9            str23                float64        ... int64  float64\n",
       "--------- ----------------------- -------------------- ... ------ -------\n",
       "WASP-12 b 2020-09-23 11:48:50.739  0.11903489783214011 ...   2593  6360.0\n",
       "WASP-12 b 2020-09-24 12:12:56.127  0.05060023095817461 ...   2593  6360.0\n",
       "WASP-12 b 2020-10-05 11:02:09.827   0.0841830875361391 ...   2593  6360.0\n",
       "WASP-12 b 2020-10-06 12:20:18.588  0.05014309848813884 ...   2593  6360.0\n",
       "WASP-12 b 2020-10-16 10:18:15.368   0.1348588851216974 ...   2593  6360.0\n",
       "WASP-12 b 2020-10-17 10:17:30.553  0.05062119894101605 ...   2593  6360.0\n",
       "WASP-12 b 2020-10-18 12:28:46.467 0.050379693477463114 ...   2593  6360.0\n",
       "WASP-12 b 2020-10-28 09:31:10.345  0.09975138862735251 ...   2593  6360.0\n",
       "WASP-12 b 2020-10-29 10:25:35.685  0.05061657607590977 ...   2593  6360.0\n",
       "      ...                     ...                  ... ...    ...     ...\n",
       "WASP-12 b 2020-12-27 08:54:13.795 0.050499487742647294 ...   2593  6360.0\n",
       "WASP-12 b 2020-12-28 11:05:48.617  0.05045848261021316 ...   2593  6360.0\n",
       "WASP-12 b 2021-01-06 04:56:21.222  0.06152016114820603 ...   2593  6360.0\n",
       "WASP-12 b 2021-01-07 06:50:00.076  0.05006895008639763 ...   2593  6360.0\n",
       "WASP-12 b 2021-01-08 09:01:38.802  0.05006935024733183 ...   2593  6360.0\n",
       "WASP-12 b 2021-01-09 11:13:18.462   0.0500796531024428 ...   2593  6360.0\n",
       "WASP-12 b 2021-01-18 04:56:15.869 0.056314138993638393 ...   2593  6360.0\n",
       "WASP-12 b 2021-01-19 06:58:55.234  0.05059482534274701 ...   2593  6360.0\n",
       "WASP-12 b 2021-01-20 09:10:34.413   0.0506000352008572 ...   2593  6360.0\n",
       "WASP-12 b 2021-01-30 05:02:50.947  0.05535452521885579 ...   2593  6360.0"
      ]
     },
     "execution_count": 33,
     "metadata": {},
     "output_type": "execute_result"
    }
   ],
   "source": [
    "events"
   ]
  },
  {
   "cell_type": "markdown",
   "metadata": {},
   "source": [
    "## Without using the masterfile"
   ]
  },
  {
   "cell_type": "code",
   "execution_count": 8,
   "metadata": {},
   "outputs": [],
   "source": [
    "from astropy.table import Table\n",
    "import astropy.units as u"
   ]
  },
  {
   "cell_type": "code",
   "execution_count": 9,
   "metadata": {},
   "outputs": [],
   "source": [
    "# Table of system information\n",
    "data = Table({'pl_name': ['HD 189733 b', 'tau Boo b'],\n",
    "              'pl_phase_zero': [2453955.525600, 2455652.1080] * u.d,\n",
    "              'pl_orbper': [2.21857567, 3.3124568] * u.d\n",
    "             })"
   ]
  },
  {
   "cell_type": "code",
   "execution_count": 12,
   "metadata": {},
   "outputs": [
    {
     "name": "stderr",
     "output_type": "stream",
     "text": [
      "WARNING: ErfaWarning: ERFA function \"taiutc\" yielded 685 of \"dubious year (Note 4)\" [warnings]\n",
      "WARNING: OldEarthOrientationDataWarning: For best precision (on the order of arcseconds), you must download an up-to-date IERS Bulletin A table. To do so, run:\n",
      "\n",
      ">>> from astroplan import download_IERS_A\n",
      ">>> download_IERS_A()\n",
      " [warnings]\n",
      "WARNING: ErfaWarning: ERFA function \"taiutc\" yielded 789 of \"dubious year (Note 4)\" [warnings]\n"
     ]
    }
   ],
   "source": [
    "# Define a prediction object\n",
    "infos = PredictPhase(time_range, data)\n",
    "\n",
    "# Get observable events ---- \n",
    "\n",
    "# Catch warnings to make sure only one of each appears\n",
    "with catch_warnings(record=True) as w:\n",
    "    events = infos.predict([0.35, 0.49])\n",
    "# Print warnings only once\n",
    "for w_i in w:\n",
    "    warn(w_i.message)"
   ]
  },
  {
   "cell_type": "code",
   "execution_count": 8,
   "metadata": {},
   "outputs": [
    {
     "data": {
      "text/html": [
       "<i>Table masked=True length=42</i>\n",
       "<table id=\"table139952003614224\" class=\"table-striped table-bordered table-condensed\">\n",
       "<thead><tr><th>pl_name</th><th>Obs_start</th><th>Phase_start</th><th>Obs_end</th><th>Phase_end</th><th>mid_tr</th><th>AM_mid_tr</th><th>moon</th><th>pl_orbper</th><th>st_j</th><th>st_h</th><th>ra</th><th>dec</th><th>pl_eqt</th><th>st_teff</th></tr></thead>\n",
       "<thead><tr><th></th><th></th><th></th><th></th><th></th><th></th><th></th><th></th><th></th><th></th><th></th><th></th><th></th><th></th><th></th></tr></thead>\n",
       "<thead><tr><th>str11</th><th>str23</th><th>float64</th><th>str23</th><th>float64</th><th>str23</th><th>float64</th><th>float64</th><th>float64</th><th>float64</th><th>float64</th><th>float64</th><th>float64</th><th>float64</th><th>float64</th></tr></thead>\n",
       "<tr><td>tau Boo b</td><td>2020-02-03 10:35:46.203</td><td>0.3586950026954786</td><td>2020-02-03 16:07:17.725</td><td>0.42819808270963794</td><td>2020-02-03 13:21:31.964</td><td>1.1275713877674676</td><td>0.6456284719376904</td><td>3.3124568</td><td>3.617</td><td>3.546</td><td>206.815598</td><td>17.456905</td><td>--</td><td>--</td></tr>\n",
       "<tr><td>tau Boo b</td><td>2020-02-13 09:57:08.303</td><td>0.3695033124931207</td><td>2020-02-13 16:03:06.528</td><td>0.4462276678401107</td><td>2020-02-13 13:00:07.415</td><td>1.088773722175938</td><td>0.7595747988971522</td><td>3.3124568</td><td>3.617</td><td>3.546</td><td>206.815598</td><td>17.456905</td><td>--</td><td>--</td></tr>\n",
       "<tr><td>tau Boo b</td><td>2020-02-23 09:17:41.631</td><td>0.3801412053280837</td><td>2020-02-23 15:57:55.330</td><td>0.4640476066431046</td><td>2020-02-23 12:37:48.481</td><td>1.0595103010850668</td><td>0.001493519202972693</td><td>3.3124568</td><td>3.617</td><td>3.546</td><td>206.815598</td><td>17.456905</td><td>--</td><td>--</td></tr>\n",
       "<tr><td>tau Boo b</td><td>2020-03-04 08:38:28.588</td><td>0.390826717834483</td><td>2020-03-04 15:50:44.133</td><td>0.48144825236940436</td><td>2020-03-04 12:14:36.360</td><td>1.037797377007011</td><td>0.6712747128266009</td><td>3.3124568</td><td>3.617</td><td>3.546</td><td>206.815598</td><td>17.456905</td><td>--</td><td>--</td></tr>\n",
       "<tr><td>tau Boo b</td><td>2020-03-14 07:58:37.595</td><td>0.40137963372143254</td><td>2020-03-14 15:00:32.935</td><td>0.4898341064358502</td><td>2020-03-14 11:29:35.265</td><td>1.044851868889806</td><td>0.7053377453731544</td><td>3.3124568</td><td>3.617</td><td>3.546</td><td>206.815598</td><td>17.456905</td><td>--</td><td>--</td></tr>\n",
       "<tr><td>tau Boo b</td><td>2020-03-17 11:23:29.257</td><td>0.3500001872548394</td><td>2020-03-17 15:39:29.203</td><td>0.40366946124421627</td><td>2020-03-17 13:31:29.230</td><td>1.036674456298614</td><td>0.3809839964854154</td><td>3.3124568</td><td>3.617</td><td>3.546</td><td>206.815598</td><td>17.456905</td><td>--</td><td>--</td></tr>\n",
       "<tr><td>tau Boo b</td><td>2020-03-24 07:19:24.588</td><td>0.4120652749980362</td><td>2020-03-24 13:30:21.738</td><td>0.4898341064190904</td><td>2020-03-24 10:24:53.163</td><td>1.0849322032157314</td><td>0.0019145930213614326</td><td>3.3124568</td><td>3.617</td><td>3.546</td><td>206.815598</td><td>17.456905</td><td>--</td><td>--</td></tr>\n",
       "<tr><td>tau Boo b</td><td>2020-03-27 09:54:12.562</td><td>0.35019062515596494</td><td>2020-03-27 15:31:18.005</td><td>0.420860460783616</td><td>2020-03-27 12:42:45.284</td><td>1.0266553303850985</td><td>0.08771496463125605</td><td>3.3124568</td><td>3.617</td><td>3.546</td><td>206.815598</td><td>17.456905</td><td>--</td><td>--</td></tr>\n",
       "<tr><td>tau Boo b</td><td>2020-04-03 06:40:03.417</td><td>0.42272238720774113</td><td>2020-04-03 12:00:10.540</td><td>0.48983410682406714</td><td>2020-04-03 09:20:06.979</td><td>1.1414048470170715</td><td>0.7079178979064689</td><td>3.3124568</td><td>3.617</td><td>3.546</td><td>206.815598</td><td>17.456905</td><td>--</td><td>--</td></tr>\n",
       "<tr><td>...</td><td>...</td><td>...</td><td>...</td><td>...</td><td>...</td><td>...</td><td>...</td><td>...</td><td>...</td><td>...</td><td>...</td><td>...</td><td>...</td><td>...</td></tr>\n",
       "<tr><td>HD 189733 b</td><td>2020-06-27 11:11:45.005</td><td>0.3502056736769407</td><td>2020-06-27 14:51:05.580</td><td>0.41886299850720393</td><td>2020-06-27 13:01:25.292</td><td>1.0343059342059067</td><td>0.40946740762681905</td><td>2.21857567</td><td>6.073</td><td>5.587</td><td>300.182129</td><td>22.710854</td><td>1191.0</td><td>5052.0</td></tr>\n",
       "<tr><td>tau Boo b</td><td>2020-06-28 05:58:52.425</td><td>0.37669122172806385</td><td>2020-06-28 10:23:33.496</td><td>0.43218136362311815</td><td>2020-06-28 08:11:12.960</td><td>1.2242911827204885</td><td>0.5008580298494536</td><td>3.3124568</td><td>3.617</td><td>3.546</td><td>206.815598</td><td>17.456905</td><td>--</td><td>--</td></tr>\n",
       "<tr><td>HD 189733 b</td><td>2020-07-04 06:45:17.131</td><td>0.42197611467016316</td><td>2020-07-04 10:22:20.393</td><td>0.4899170946816176</td><td>2020-07-04 08:33:48.762</td><td>1.3355293864813795</td><td>0.9913908663565103</td><td>2.21857567</td><td>6.073</td><td>5.587</td><td>300.182129</td><td>22.710854</td><td>1191.0</td><td>5052.0</td></tr>\n",
       "<tr><td>HD 189733 b</td><td>2020-07-06 08:10:17.075</td><td>0.35006126426444956</td><td>2020-07-06 14:55:05.331</td><td>0.4767705200606474</td><td>2020-07-06 11:32:41.203</td><td>1.001960608333328</td><td>0.98036210075676</td><td>2.21857567</td><td>6.073</td><td>5.587</td><td>300.182129</td><td>22.710854</td><td>1191.0</td><td>5052.0</td></tr>\n",
       "<tr><td>tau Boo b</td><td>2020-07-08 05:59:13.425</td><td>0.39567189416939064</td><td>2020-07-08 09:44:22.299</td><td>0.44287332729183126</td><td>2020-07-08 07:51:47.862</td><td>1.3039083116926298</td><td>0.8935242779491244</td><td>3.3124568</td><td>3.617</td><td>3.546</td><td>206.815598</td><td>17.456905</td><td>--</td><td>--</td></tr>\n",
       "<tr><td>HD 189733 b</td><td>2020-07-15 06:02:27.527</td><td>0.36670680783623005</td><td>2020-07-15 12:36:05.083</td><td>0.4899170928181503</td><td>2020-07-15 09:19:16.305</td><td>1.0713714115027344</td><td>0.2783235598356414</td><td>2.21857567</td><td>6.073</td><td>5.587</td><td>300.182129</td><td>22.710854</td><td>1191.0</td><td>5052.0</td></tr>\n",
       "<tr><td>HD 189733 b</td><td>2020-07-17 10:24:05.159</td><td>0.350078971618804</td><td>2020-07-17 14:59:50.021</td><td>0.43639176155895015</td><td>2020-07-17 12:41:57.590</td><td>1.1371888490812718</td><td>0.11261723094684878</td><td>2.21857567</td><td>6.073</td><td>5.587</td><td>300.182129</td><td>22.710854</td><td>1191.0</td><td>5052.0</td></tr>\n",
       "<tr><td>tau Boo b</td><td>2020-07-18 05:56:52.323</td><td>0.41408616440007556</td><td>2020-07-18 09:05:11.101</td><td>0.4535652908199656</td><td>2020-07-18 07:31:01.712</td><td>1.3968723517505706</td><td>0.06665328253323438</td><td>3.3124568</td><td>3.617</td><td>3.546</td><td>206.815598</td><td>17.456905</td><td>--</td><td>--</td></tr>\n",
       "<tr><td>HD 189733 b</td><td>2020-07-24 05:54:11.833</td><td>0.4207775911317314</td><td>2020-07-24 09:35:04.834</td><td>0.48991709455971333</td><td>2020-07-24 07:44:38.334</td><td>1.2166205872345954</td><td>0.1626394755870944</td><td>2.21857567</td><td>6.073</td><td>5.587</td><td>300.182129</td><td>22.710854</td><td>1191.0</td><td>5052.0</td></tr>\n",
       "<tr><td>HD 189733 b</td><td>2020-07-26 07:23:29.658</td><td>0.3502080752017418</td><td>2020-07-26 14:49:49.772</td><td>0.48991709242392706</td><td>2020-07-26 11:06:39.715</td><td>1.0335047346792676</td><td>0.38002212604157415</td><td>2.21857567</td><td>6.073</td><td>5.587</td><td>300.182129</td><td>22.710854</td><td>1191.0</td><td>5052.0</td></tr>\n",
       "</table>"
      ],
      "text/plain": [
       "<Table masked=True length=42>\n",
       "  pl_name          Obs_start            Phase_start     ...  pl_eqt st_teff\n",
       "                                                        ...                \n",
       "   str11             str23                float64       ... float64 float64\n",
       "----------- ----------------------- ------------------- ... ------- -------\n",
       "  tau Boo b 2020-02-03 10:35:46.203  0.3586950026954786 ...      --      --\n",
       "  tau Boo b 2020-02-13 09:57:08.303  0.3695033124931207 ...      --      --\n",
       "  tau Boo b 2020-02-23 09:17:41.631  0.3801412053280837 ...      --      --\n",
       "  tau Boo b 2020-03-04 08:38:28.588   0.390826717834483 ...      --      --\n",
       "  tau Boo b 2020-03-14 07:58:37.595 0.40137963372143254 ...      --      --\n",
       "  tau Boo b 2020-03-17 11:23:29.257  0.3500001872548394 ...      --      --\n",
       "  tau Boo b 2020-03-24 07:19:24.588  0.4120652749980362 ...      --      --\n",
       "  tau Boo b 2020-03-27 09:54:12.562 0.35019062515596494 ...      --      --\n",
       "  tau Boo b 2020-04-03 06:40:03.417 0.42272238720774113 ...      --      --\n",
       "        ...                     ...                 ... ...     ...     ...\n",
       "HD 189733 b 2020-06-27 11:11:45.005  0.3502056736769407 ...  1191.0  5052.0\n",
       "  tau Boo b 2020-06-28 05:58:52.425 0.37669122172806385 ...      --      --\n",
       "HD 189733 b 2020-07-04 06:45:17.131 0.42197611467016316 ...  1191.0  5052.0\n",
       "HD 189733 b 2020-07-06 08:10:17.075 0.35006126426444956 ...  1191.0  5052.0\n",
       "  tau Boo b 2020-07-08 05:59:13.425 0.39567189416939064 ...      --      --\n",
       "HD 189733 b 2020-07-15 06:02:27.527 0.36670680783623005 ...  1191.0  5052.0\n",
       "HD 189733 b 2020-07-17 10:24:05.159   0.350078971618804 ...  1191.0  5052.0\n",
       "  tau Boo b 2020-07-18 05:56:52.323 0.41408616440007556 ...      --      --\n",
       "HD 189733 b 2020-07-24 05:54:11.833  0.4207775911317314 ...  1191.0  5052.0\n",
       "HD 189733 b 2020-07-26 07:23:29.658  0.3502080752017418 ...  1191.0  5052.0"
      ]
     },
     "execution_count": 8,
     "metadata": {},
     "output_type": "execute_result"
    }
   ],
   "source": [
    "events"
   ]
  },
  {
   "cell_type": "markdown",
   "metadata": {},
   "source": [
    "# Save results"
   ]
  },
  {
   "cell_type": "code",
   "execution_count": 34,
   "metadata": {},
   "outputs": [
    {
     "name": "stderr",
     "output_type": "stream",
     "text": [
      "WARNING: AstropyDeprecationWarning: /home/adb/Doctorat/transit_predictions/2020B_list_of_phase_WASP12_0.05_0.25.ecsv already exists. Automatically overwriting ASCII files is deprecated. Use the argument 'overwrite=True' in the future. [astropy.io.ascii.ui]\n"
     ]
    }
   ],
   "source": [
    "# Save results\n",
    "file_name = '/home/adb/Doctorat/transit_predictions/2020B_list_of_phase_WASP12_{}_{}.ecsv' \n",
    "events.write(file_name.format(*events.meta['Phase_range']))"
   ]
  },
  {
   "cell_type": "markdown",
   "metadata": {},
   "source": [
    "## CFHT format"
   ]
  },
  {
   "cell_type": "code",
   "execution_count": 35,
   "metadata": {},
   "outputs": [
    {
     "name": "stderr",
     "output_type": "stream",
     "text": [
      "WARNING: AstropyDeprecationWarning: /home/adb/Doctorat/transit_predictions/CFHT_window_2020B_0.05_0.25.csv already exists. Automatically overwriting ASCII files is deprecated. Use the argument 'overwrite=True' in the future. [astropy.io.ascii.ui]\n"
     ]
    }
   ],
   "source": [
    "# Save to CFHT form\n",
    "table_cfht = events[\"pl_name\",\"ra\",\"dec\",\"Obs_start\",\"Obs_end\"]\n",
    "table_cfht.rename_column('Obs_start', 'Date start (UT)')\n",
    "table_cfht.rename_column('Obs_end', 'Date end (UT)')\n",
    "\n",
    "file_name = '/home/adb/Doctorat/transit_predictions/CFHT_window_2020B_{}_{}.csv'\n",
    "\n",
    "table_cfht.write(file_name.format(*table_cfht.meta['Phase_range']), delimiter=',')"
   ]
  },
  {
   "cell_type": "code",
   "execution_count": 20,
   "metadata": {},
   "outputs": [
    {
     "data": {
      "text/html": [
       "<i>Table masked=True length=33</i>\n",
       "<table id=\"table139778011209424\" class=\"table-striped table-bordered table-condensed\">\n",
       "<thead><tr><th>pl_name</th><th>ra</th><th>dec</th><th>Date start (UT)</th><th>Date end (UT)</th></tr></thead>\n",
       "<thead><tr><th>str9</th><th>float64</th><th>float64</th><th>str23</th><th>str23</th></tr></thead>\n",
       "<tr><td>WASP-12 b</td><td>97.63664</td><td>29.672291</td><td>2020-09-23 11:48:50.739</td><td>2020-09-23 15:14:20.838</td></tr>\n",
       "<tr><td>WASP-12 b</td><td>97.63664</td><td>29.672291</td><td>2020-09-24 12:12:56.127</td><td>2020-09-24 15:22:59.526</td></tr>\n",
       "<tr><td>WASP-12 b</td><td>97.63664</td><td>29.672291</td><td>2020-10-05 11:02:09.827</td><td>2020-10-05 15:22:26.406</td></tr>\n",
       "<tr><td>WASP-12 b</td><td>97.63664</td><td>29.672291</td><td>2020-10-06 12:20:18.588</td><td>2020-10-06 15:26:05.094</td></tr>\n",
       "<tr><td>WASP-12 b</td><td>97.63664</td><td>29.672291</td><td>2020-10-16 10:18:15.368</td><td>2020-10-16 13:18:53.286</td></tr>\n",
       "<tr><td>WASP-12 b</td><td>97.63664</td><td>29.672291</td><td>2020-10-17 10:17:30.553</td><td>2020-10-17 15:28:31.974</td></tr>\n",
       "<tr><td>WASP-12 b</td><td>97.63664</td><td>29.672291</td><td>2020-10-18 12:28:46.467</td><td>2020-10-18 15:29:10.662</td></tr>\n",
       "<tr><td>WASP-12 b</td><td>97.63664</td><td>29.672291</td><td>2020-10-28 09:31:10.345</td><td>2020-10-28 13:26:58.854</td></tr>\n",
       "<tr><td>WASP-12 b</td><td>97.63664</td><td>29.672291</td><td>2020-10-29 10:25:35.685</td><td>2020-10-29 15:32:37.542</td></tr>\n",
       "<tr><td>WASP-12 b</td><td>97.63664</td><td>29.672291</td><td>2020-11-09 08:44:25.669</td><td>2020-11-09 13:35:04.422</td></tr>\n",
       "<tr><td>...</td><td>...</td><td>...</td><td>...</td><td>...</td></tr>\n",
       "<tr><td>WASP-12 b</td><td>97.63664</td><td>29.672291</td><td>2020-12-27 08:54:13.795</td><td>2020-12-27 14:07:26.694</td></tr>\n",
       "<tr><td>WASP-12 b</td><td>97.63664</td><td>29.672291</td><td>2020-12-28 11:05:48.617</td><td>2020-12-28 15:17:05.382</td></tr>\n",
       "<tr><td>WASP-12 b</td><td>97.63664</td><td>29.672291</td><td>2021-01-06 04:56:21.222</td><td>2021-01-06 09:52:14.886</td></tr>\n",
       "<tr><td>WASP-12 b</td><td>97.63664</td><td>29.672291</td><td>2021-01-07 06:50:00.076</td><td>2021-01-07 12:03:53.574</td></tr>\n",
       "<tr><td>WASP-12 b</td><td>97.63664</td><td>29.672291</td><td>2021-01-08 09:01:38.802</td><td>2021-01-08 14:15:32.262</td></tr>\n",
       "<tr><td>WASP-12 b</td><td>97.63664</td><td>29.672291</td><td>2021-01-09 11:13:18.462</td><td>2021-01-09 14:30:10.950</td></tr>\n",
       "<tr><td>WASP-12 b</td><td>97.63664</td><td>29.672291</td><td>2021-01-18 04:56:15.869</td><td>2021-01-18 10:00:20.454</td></tr>\n",
       "<tr><td>WASP-12 b</td><td>97.63664</td><td>29.672291</td><td>2021-01-19 06:58:55.234</td><td>2021-01-19 12:11:59.142</td></tr>\n",
       "<tr><td>WASP-12 b</td><td>97.63664</td><td>29.672291</td><td>2021-01-20 09:10:34.413</td><td>2021-01-20 13:46:37.830</td></tr>\n",
       "<tr><td>WASP-12 b</td><td>97.63664</td><td>29.672291</td><td>2021-01-30 05:02:50.947</td><td>2021-01-30 10:08:26.022</td></tr>\n",
       "</table>"
      ],
      "text/plain": [
       "<Table masked=True length=33>\n",
       " pl_name     ra       dec        Date start (UT)          Date end (UT)     \n",
       "   str9   float64   float64           str23                   str23         \n",
       "--------- -------- --------- ----------------------- -----------------------\n",
       "WASP-12 b 97.63664 29.672291 2020-09-23 11:48:50.739 2020-09-23 15:14:20.838\n",
       "WASP-12 b 97.63664 29.672291 2020-09-24 12:12:56.127 2020-09-24 15:22:59.526\n",
       "WASP-12 b 97.63664 29.672291 2020-10-05 11:02:09.827 2020-10-05 15:22:26.406\n",
       "WASP-12 b 97.63664 29.672291 2020-10-06 12:20:18.588 2020-10-06 15:26:05.094\n",
       "WASP-12 b 97.63664 29.672291 2020-10-16 10:18:15.368 2020-10-16 13:18:53.286\n",
       "WASP-12 b 97.63664 29.672291 2020-10-17 10:17:30.553 2020-10-17 15:28:31.974\n",
       "WASP-12 b 97.63664 29.672291 2020-10-18 12:28:46.467 2020-10-18 15:29:10.662\n",
       "WASP-12 b 97.63664 29.672291 2020-10-28 09:31:10.345 2020-10-28 13:26:58.854\n",
       "WASP-12 b 97.63664 29.672291 2020-10-29 10:25:35.685 2020-10-29 15:32:37.542\n",
       "WASP-12 b 97.63664 29.672291 2020-11-09 08:44:25.669 2020-11-09 13:35:04.422\n",
       "      ...      ...       ...                     ...                     ...\n",
       "WASP-12 b 97.63664 29.672291 2020-12-27 08:54:13.795 2020-12-27 14:07:26.694\n",
       "WASP-12 b 97.63664 29.672291 2020-12-28 11:05:48.617 2020-12-28 15:17:05.382\n",
       "WASP-12 b 97.63664 29.672291 2021-01-06 04:56:21.222 2021-01-06 09:52:14.886\n",
       "WASP-12 b 97.63664 29.672291 2021-01-07 06:50:00.076 2021-01-07 12:03:53.574\n",
       "WASP-12 b 97.63664 29.672291 2021-01-08 09:01:38.802 2021-01-08 14:15:32.262\n",
       "WASP-12 b 97.63664 29.672291 2021-01-09 11:13:18.462 2021-01-09 14:30:10.950\n",
       "WASP-12 b 97.63664 29.672291 2021-01-18 04:56:15.869 2021-01-18 10:00:20.454\n",
       "WASP-12 b 97.63664 29.672291 2021-01-19 06:58:55.234 2021-01-19 12:11:59.142\n",
       "WASP-12 b 97.63664 29.672291 2021-01-20 09:10:34.413 2021-01-20 13:46:37.830\n",
       "WASP-12 b 97.63664 29.672291 2021-01-30 05:02:50.947 2021-01-30 10:08:26.022"
      ]
     },
     "execution_count": 20,
     "metadata": {},
     "output_type": "execute_result"
    }
   ],
   "source": [
    "table_cfht"
   ]
  }
 ],
 "metadata": {
  "kernelspec": {
   "display_name": "Python 3",
   "language": "python",
   "name": "python3"
  },
  "language_info": {
   "codemirror_mode": {
    "name": "ipython",
    "version": 3
   },
   "file_extension": ".py",
   "mimetype": "text/x-python",
   "name": "python",
   "nbconvert_exporter": "python",
   "pygments_lexer": "ipython3",
   "version": "3.7.6"
  }
 },
 "nbformat": 4,
 "nbformat_minor": 2
}
