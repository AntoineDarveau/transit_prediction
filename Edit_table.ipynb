{
 "cells": [
  {
   "cell_type": "code",
   "execution_count": 1,
   "metadata": {},
   "outputs": [],
   "source": [
    "from transit_prediction.masterfile import MasterFile"
   ]
  },
  {
   "cell_type": "code",
   "execution_count": 2,
   "metadata": {},
   "outputs": [],
   "source": [
    "data = MasterFile.read()"
   ]
  },
  {
   "cell_type": "code",
   "execution_count": 3,
   "metadata": {},
   "outputs": [],
   "source": [
    "data.save_update()"
   ]
  },
  {
   "cell_type": "code",
   "execution_count": 25,
   "metadata": {},
   "outputs": [
    {
     "data": {
      "text/html": [
       "<i>MasterFile masked=True length=1</i>\n",
       "<table id=\"table140440864117088\" class=\"table-striped table-bordered table-condensed\">\n",
       "<thead><tr><th>pl_name</th><th>ra</th><th>st_raerr</th><th>st_rah</th><th>st_raherr</th><th>ra_str</th><th>dec</th><th>st_decerr</th><th>dec_str</th><th>st_glon</th><th>st_glonerr</th><th>st_glat</th><th>st_glaterr</th><th>st_elon</th><th>st_elonerr</th><th>st_elat</th><th>st_elaterr</th><th>st_posn</th><th>st_plx</th><th>st_plxerr1</th><th>st_plxerr2</th><th>st_plxlim</th><th>st_plxn</th><th>st_dist</th><th>st_disterr1</th><th>st_disterr2</th><th>st_distlim</th><th>st_distn</th><th>st_pmra</th><th>st_pmraerr</th><th>st_pmralim</th><th>st_pmdec</th><th>st_pmdecerr</th><th>st_pmdeclim</th><th>st_pm</th><th>st_pmerr</th><th>st_pmlim</th><th>st_pmn</th><th>st_radv</th><th>st_radverr1</th><th>st_radverr2</th><th>st_radvlim</th><th>st_radvn</th><th>st_uj</th><th>st_ujerr</th><th>st_ujlim</th><th>st_bj</th><th>st_bjerr</th><th>st_bjlim</th><th>st_vj</th><th>st_vjerr</th><th>st_vjlim</th><th>st_rc</th><th>st_rcerr</th><th>st_rclim</th><th>st_ic</th><th>st_icerr</th><th>st_iclim</th><th>st_j</th><th>st_jerr</th><th>st_jlim</th><th>st_h</th><th>st_herr</th><th>st_hlim</th><th>st_k</th><th>st_kerr</th><th>st_klim</th><th>st_wise1</th><th>st_wise1err</th><th>st_wise1lim</th><th>st_wise2</th><th>st_wise2err</th><th>st_wise2lim</th><th>st_wise3</th><th>st_wise3err</th><th>st_wise3lim</th><th>st_wise4</th><th>st_wise4err</th><th>st_wise4lim</th><th>st_irac1</th><th>st_irac1err</th><th>st_irac1lim</th><th>st_irac2</th><th>st_irac2err</th><th>st_irac2lim</th><th>st_irac3</th><th>st_irac3err</th><th>st_irac3lim</th><th>st_irac4</th><th>st_irac4err</th><th>st_irac4lim</th><th>st_mips1</th><th>st_mips1err</th><th>st_mips1lim</th><th>st_mips2</th><th>st_mips2err</th><th>st_mips2lim</th><th>st_mips3</th><th>st_mips3err</th><th>st_mips3lim</th><th>st_iras1</th><th>st_iras1err</th><th>st_iras1lim</th><th>st_iras2</th><th>st_iras2err</th><th>st_iras2lim</th><th>st_iras3</th><th>st_iras3err</th><th>st_iras3lim</th><th>st_iras4</th><th>st_iras4err</th><th>st_iras4lim</th><th>st_optmag</th><th>st_optmagerr</th><th>st_optmaglim</th><th>st_optband</th><th>st_photn</th><th>st_umbj</th><th>st_umbjerr</th><th>st_umbjlim</th><th>st_bmvj</th><th>st_bmvjerr</th><th>st_bmvjlim</th><th>st_vjmic</th><th>st_vjmicerr</th><th>st_vjmiclim</th><th>st_vjmrc</th><th>st_vjmrcerr</th><th>st_vjmrclim</th><th>st_jmh2</th><th>st_jmh2err</th><th>st_jmh2lim</th><th>st_hmk2</th><th>st_hmk2err</th><th>st_hmk2lim</th><th>st_jmk2</th><th>st_jmk2err</th><th>st_jmk2lim</th><th>st_bmy</th><th>st_bmyerr</th><th>st_bmylim</th><th>st_m1</th><th>st_m1err</th><th>st_m1lim</th><th>st_c1</th><th>st_c1err</th><th>st_c1lim</th><th>st_colorn</th><th>st_spstr</th><th>st_ssperr</th><th>st_splim</th><th>st_spn</th><th>st_teff</th><th>st_tefferr1</th><th>st_tefferr2</th><th>st_tefflim</th><th>st_teffn</th><th>st_logg</th><th>st_loggerr1</th><th>st_loggerr2</th><th>st_logglim</th><th>st_loggn</th><th>st_metfe</th><th>st_metfeerr1</th><th>st_metfeerr2</th><th>st_metfelim</th><th>st_metfen</th><th>st_metratio</th><th>st_lum</th><th>st_lumerr1</th><th>st_lumerr2</th><th>st_lumlim</th><th>st_lumn</th><th>st_rad</th><th>st_raderr1</th><th>st_raderr2</th><th>st_radlim</th><th>st_radn</th><th>st_mass</th><th>st_masserr1</th><th>st_masserr2</th><th>st_masslim</th><th>st_massn</th><th>st_dens</th><th>st_denserr1</th><th>st_denserr2</th><th>st_denslim</th><th>st_densn</th><th>st_age</th><th>st_ageerr1</th><th>st_ageerr2</th><th>st_agelim</th><th>st_agen</th><th>st_vsini</th><th>st_vsinierr1</th><th>st_vsinierr2</th><th>st_vsinilim</th><th>st_vsinin</th><th>st_acts</th><th>st_actserr</th><th>st_actslim</th><th>st_actsn</th><th>st_actr</th><th>st_actrerr</th><th>st_actrlim</th><th>st_actrn</th><th>st_actlx</th><th>st_actlxerr</th><th>st_actlxlim</th><th>st_actlxn</th><th>st_nts</th><th>st_nplc</th><th>st_nglc</th><th>st_nrvc</th><th>st_naxa</th><th>st_nimg</th><th>st_nspec</th><th>hd_name</th><th>hip_name</th><th>swasp_id</th><th>pl_hostname</th><th>pl_letter</th><th>pl_pnum</th><th>pl_snum</th><th>pl_mnum</th><th>pl_status</th><th>pl_discmethod</th><th>pl_disc</th><th>pl_disc_refname</th><th>pl_publ_date</th><th>pl_facility</th><th>pl_telescope</th><th>pl_instrument</th><th>pl_locale</th><th>pl_def_refname</th><th>pl_rvflag</th><th>pl_imgflag</th><th>pl_astflag</th><th>pl_tranflag</th><th>pl_ttvflag</th><th>pl_kepflag</th><th>pl_k2flag</th><th>pl_nnotes</th><th>pl_cbflag</th><th>pl_omflag</th><th>pl_pelink</th><th>pl_edelink</th><th>pl_orbper</th><th>pl_orbpererr1</th><th>pl_orbpererr2</th><th>pl_orbperlim</th><th>pl_orbpern</th><th>pl_orbsmax</th><th>pl_orbsmaxerr1</th><th>pl_orbsmaxerr2</th><th>pl_orbsmaxlim</th><th>pl_orbsmaxn</th><th>pl_orbincl</th><th>pl_orbinclerr1</th><th>pl_orbinclerr2</th><th>pl_orbincllim</th><th>pl_orbincln</th><th>pl_orbtper</th><th>pl_orbtpererr1</th><th>pl_orbtpererr2</th><th>pl_orbtperlim</th><th>pl_orbtpern</th><th>pl_orbeccen</th><th>pl_orbeccenerr1</th><th>pl_orbeccenerr2</th><th>pl_orbeccenlim</th><th>pl_orbeccenn</th><th>pl_orblper</th><th>pl_orblpererr1</th><th>pl_orblpererr2</th><th>pl_orblperlim</th><th>pl_orblpern</th><th>pl_rvamp</th><th>pl_rvamperr1</th><th>pl_rvamperr2</th><th>pl_rvamplim</th><th>pl_rvampn</th><th>pl_conrat</th><th>pl_conraterr1</th><th>pl_conraterr2</th><th>pl_conratlim</th><th>pl_conratband</th><th>pl_conratn</th><th>pl_msinij</th><th>pl_msinijerr1</th><th>pl_msinijerr2</th><th>pl_msinijlim</th><th>pl_msinie</th><th>pl_msinieerr1</th><th>pl_msinieerr2</th><th>pl_msinielim</th><th>pl_msinin</th><th>pl_massj</th><th>pl_massjerr1</th><th>pl_massjerr2</th><th>pl_massjlim</th><th>pl_masse</th><th>pl_masseerr1</th><th>pl_masseerr2</th><th>pl_masselim</th><th>pl_massn</th><th>pl_bmassj</th><th>pl_bmassjerr1</th><th>pl_bmassjerr2</th><th>pl_bmassjlim</th><th>pl_bmasse</th><th>pl_bmasseerr1</th><th>pl_bmasseerr2</th><th>pl_bmasselim</th><th>pl_bmassn</th><th>pl_bmassprov</th><th>pl_radj</th><th>pl_radjerr1</th><th>pl_radjerr2</th><th>pl_radjlim</th><th>pl_rade</th><th>pl_radeerr1</th><th>pl_radeerr2</th><th>pl_radelim</th><th>pl_rads</th><th>pl_radserr1</th><th>pl_radserr2</th><th>pl_radslim</th><th>pl_radn</th><th>pl_dens</th><th>pl_denserr1</th><th>pl_denserr2</th><th>pl_denslim</th><th>pl_densn</th><th>pl_eqt</th><th>pl_eqterr1</th><th>pl_eqterr2</th><th>pl_eqtlim</th><th>pl_eqtn</th><th>pl_insol</th><th>pl_insolerr1</th><th>pl_insolerr2</th><th>pl_insollim</th><th>pl_insoln</th><th>pl_trandep</th><th>pl_trandeperr1</th><th>pl_trandeperr2</th><th>pl_trandeplim</th><th>pl_trandepn</th><th>pl_trandur</th><th>pl_trandurerr1</th><th>pl_trandurerr2</th><th>pl_trandurlim</th><th>pl_trandurn</th><th>pl_tranmid</th><th>pl_tranmiderr1</th><th>pl_tranmiderr2</th><th>pl_tranmidlim</th><th>pl_tranmidn</th><th>pl_tsystemref</th><th>pl_imppar</th><th>pl_impparerr1</th><th>pl_impparerr2</th><th>pl_impparlim</th><th>pl_impparn</th><th>pl_occdep</th><th>pl_occdeperr1</th><th>pl_occdeperr2</th><th>pl_occdeplim</th><th>pl_occdepn</th><th>pl_ratdor</th><th>pl_ratdorerr1</th><th>pl_ratdorerr2</th><th>pl_ratdorlim</th><th>pl_ratdorn</th><th>pl_ratror</th><th>pl_ratrorerr1</th><th>pl_ratrorerr2</th><th>pl_ratrorlim</th><th>pl_ratrorn</th><th>pl_mrtranmid</th><th>pl_mrtranmiderr1</th><th>pl_mrtranmiderr2</th><th>pl_mrtranmidlim</th><th>pl_mrtmrefid</th><th>pl_mrtmreflink</th><th>pl_mrtsystemref</th><th>pl_st_npar</th><th>pl_st_nref</th><th>rowupdate</th><th>gaia_plx</th><th>gaia_plxerr1</th><th>gaia_plxerr2</th><th>gaia_plxlim</th><th>gaia_dist</th><th>gaia_disterr1</th><th>gaia_disterr2</th><th>gaia_distlim</th><th>gaia_pmra</th><th>gaia_pmraerr</th><th>gaia_pmralim</th><th>gaia_pmdec</th><th>gaia_pmdecerr</th><th>gaia_pmdeclim</th><th>gaia_pm</th><th>gaia_pmerr</th><th>gaia_pmlim</th><th>gaia_gmag</th><th>gaia_gmagerr</th><th>gaia_gmaglim</th><th>pl_angsep</th><th>pl_angseperr1</th><th>pl_angseperr2</th><th>pl_controvflag</th></tr></thead>\n",
       "<thead><tr><th></th><th>deg</th><th>deg</th><th>h</th><th>h</th><th></th><th>deg</th><th>deg</th><th></th><th>deg</th><th>deg</th><th>deg</th><th>deg</th><th>deg</th><th>deg</th><th>deg</th><th>deg</th><th></th><th>mas</th><th>mas</th><th>mas</th><th></th><th></th><th>pc</th><th>pc</th><th>pc</th><th></th><th></th><th>mas / yr</th><th>mas / yr</th><th></th><th>mas / yr</th><th>mas / yr</th><th></th><th>mas / yr</th><th>mas / yr</th><th></th><th></th><th>km / s</th><th>km / s</th><th>km / s</th><th></th><th></th><th>mags</th><th>mags</th><th></th><th>mags</th><th>mags</th><th></th><th>mags</th><th>mags</th><th></th><th>mags</th><th>mags</th><th></th><th>mags</th><th>mags</th><th></th><th>mags</th><th>mags</th><th></th><th>mags</th><th>mags</th><th></th><th>mags</th><th>mags</th><th></th><th>mags</th><th>mags</th><th></th><th>mags</th><th>mags</th><th></th><th>mags</th><th>mags</th><th></th><th>mags</th><th>mags</th><th></th><th>mags</th><th>mags</th><th></th><th>mags</th><th>mags</th><th></th><th>mags</th><th>mags</th><th></th><th>mags</th><th>mags</th><th></th><th>Jy</th><th>Jy</th><th></th><th>Jy</th><th>Jy</th><th></th><th>Jy</th><th>Jy</th><th></th><th>Jy</th><th>Jy</th><th></th><th>Jy</th><th>Jy</th><th></th><th>Jy</th><th>Jy</th><th></th><th>Jy</th><th>Jy</th><th></th><th>mags</th><th>mags</th><th></th><th></th><th></th><th>mags</th><th>mags</th><th></th><th>mags</th><th>mags</th><th></th><th>mags</th><th>mags</th><th></th><th>mags</th><th>mags</th><th></th><th>mags</th><th>mags</th><th></th><th>mags</th><th>mags</th><th></th><th>mags</th><th>mags</th><th></th><th>mags</th><th>mags</th><th></th><th>mags</th><th>mags</th><th></th><th>mags</th><th>mags</th><th></th><th></th><th></th><th></th><th></th><th></th><th>K</th><th>K</th><th>K</th><th></th><th></th><th>cm / s2</th><th>cm / s2</th><th>cm / s2</th><th></th><th></th><th>dex</th><th>dex</th><th>dex</th><th></th><th></th><th></th><th>logLsun</th><th>logLsun</th><th>logLsun</th><th></th><th></th><th>solRad</th><th>solRad</th><th>solRad</th><th></th><th></th><th>solMass</th><th>solMass</th><th>solMass</th><th></th><th></th><th>g / cm3</th><th>g / cm3</th><th>g / cm3</th><th></th><th></th><th>Gyr</th><th>Gyr</th><th>Gyr</th><th></th><th></th><th>km / s</th><th>km / s</th><th>km / s</th><th></th><th></th><th></th><th></th><th></th><th></th><th></th><th></th><th></th><th></th><th></th><th></th><th></th><th></th><th></th><th></th><th></th><th></th><th></th><th></th><th></th><th></th><th></th><th></th><th></th><th></th><th></th><th></th><th></th><th></th><th></th><th></th><th></th><th></th><th></th><th></th><th></th><th></th><th></th><th></th><th></th><th></th><th></th><th></th><th></th><th></th><th></th><th></th><th></th><th></th><th></th><th>days</th><th>days</th><th>days</th><th></th><th></th><th>AU</th><th>AU</th><th>AU</th><th></th><th></th><th>deg</th><th>deg</th><th>deg</th><th></th><th></th><th>days</th><th>days</th><th>days</th><th></th><th></th><th></th><th></th><th></th><th></th><th></th><th>deg</th><th>deg</th><th>deg</th><th></th><th></th><th>m / s</th><th>m / s</th><th>m / s</th><th></th><th></th><th></th><th></th><th></th><th></th><th></th><th></th><th>jovMass</th><th>jovMass</th><th>jovMass</th><th></th><th>earthMass</th><th>earthMass</th><th>earthMass</th><th></th><th></th><th>jovMass</th><th>jovMass</th><th>jovMass</th><th></th><th>earthMass</th><th>earthMass</th><th>earthMass</th><th></th><th></th><th>jovMass</th><th>jovMass</th><th>jovMass</th><th></th><th>earthMass</th><th>earthMass</th><th>earthMass</th><th></th><th></th><th></th><th>jupiterRad</th><th>jupiterRad</th><th>jupiterRad</th><th></th><th>earthRad</th><th>earthRad</th><th>earthRad</th><th></th><th>solRad</th><th>solRad</th><th>solRad</th><th></th><th></th><th>g / cm3</th><th>g / cm3</th><th>g / cm3</th><th></th><th></th><th></th><th></th><th></th><th></th><th></th><th>Fearth</th><th>Fearth</th><th>Fearth</th><th></th><th></th><th>perc</th><th>perc</th><th>perc</th><th></th><th></th><th>days</th><th>days</th><th>days</th><th></th><th></th><th>days</th><th>days</th><th>days</th><th></th><th></th><th></th><th></th><th></th><th></th><th></th><th></th><th>perc</th><th>perc</th><th>perc</th><th></th><th></th><th></th><th></th><th></th><th></th><th></th><th></th><th></th><th></th><th></th><th></th><th>days</th><th>days</th><th>days</th><th></th><th></th><th></th><th></th><th></th><th></th><th></th><th>mas</th><th>mas</th><th>mas</th><th></th><th>pc</th><th>pc</th><th>pc</th><th></th><th>mas / yr</th><th>mas / yr</th><th></th><th>mas / yr</th><th>mas / yr</th><th></th><th>mas / yr</th><th>mas / yr</th><th></th><th>mags</th><th>mags</th><th></th><th>mas</th><th>mas</th><th>mas</th><th></th></tr></thead>\n",
       "<thead><tr><th>object</th><th>float32</th><th>float64</th><th>float64</th><th>float64</th><th>object</th><th>float32</th><th>float64</th><th>object</th><th>float64</th><th>float64</th><th>float64</th><th>float64</th><th>float64</th><th>float64</th><th>float64</th><th>float64</th><th>int32</th><th>float64</th><th>float64</th><th>float64</th><th>int32</th><th>int32</th><th>float64</th><th>float64</th><th>float64</th><th>int32</th><th>int32</th><th>float64</th><th>float64</th><th>int32</th><th>float64</th><th>float64</th><th>int32</th><th>float64</th><th>float64</th><th>int32</th><th>int32</th><th>float64</th><th>float64</th><th>float64</th><th>int32</th><th>int32</th><th>float64</th><th>float64</th><th>int32</th><th>float64</th><th>float64</th><th>int32</th><th>float64</th><th>float64</th><th>int32</th><th>float64</th><th>float64</th><th>int32</th><th>float64</th><th>float64</th><th>int32</th><th>float64</th><th>float64</th><th>int32</th><th>float64</th><th>float64</th><th>int32</th><th>float64</th><th>float64</th><th>int32</th><th>float64</th><th>float64</th><th>int32</th><th>float64</th><th>float64</th><th>int32</th><th>float64</th><th>float64</th><th>int32</th><th>float64</th><th>float64</th><th>int32</th><th>float64</th><th>float64</th><th>int32</th><th>float64</th><th>float64</th><th>int32</th><th>float64</th><th>float64</th><th>int32</th><th>float64</th><th>float64</th><th>int32</th><th>float64</th><th>float64</th><th>int32</th><th>float64</th><th>float64</th><th>int32</th><th>float64</th><th>float64</th><th>int32</th><th>float64</th><th>float64</th><th>int32</th><th>float64</th><th>float64</th><th>int32</th><th>float64</th><th>float64</th><th>int32</th><th>float64</th><th>float64</th><th>int32</th><th>float64</th><th>float64</th><th>int32</th><th>object</th><th>int32</th><th>float64</th><th>float64</th><th>int32</th><th>float64</th><th>float64</th><th>int32</th><th>float64</th><th>float64</th><th>int32</th><th>float64</th><th>float64</th><th>int32</th><th>float64</th><th>float64</th><th>int32</th><th>float64</th><th>float64</th><th>int32</th><th>float64</th><th>float64</th><th>int32</th><th>float64</th><th>float64</th><th>int32</th><th>float64</th><th>float64</th><th>int32</th><th>float64</th><th>float64</th><th>int32</th><th>int32</th><th>object</th><th>object</th><th>int32</th><th>int32</th><th>float64</th><th>float64</th><th>float64</th><th>int32</th><th>int32</th><th>float64</th><th>float64</th><th>float64</th><th>int32</th><th>int32</th><th>float64</th><th>float64</th><th>float64</th><th>int32</th><th>int32</th><th>object</th><th>float64</th><th>float64</th><th>float64</th><th>int32</th><th>int32</th><th>float64</th><th>float64</th><th>float64</th><th>int32</th><th>int32</th><th>float64</th><th>float64</th><th>float64</th><th>int32</th><th>int32</th><th>float64</th><th>float64</th><th>float64</th><th>int32</th><th>int32</th><th>float64</th><th>float64</th><th>float64</th><th>int32</th><th>int32</th><th>float64</th><th>float64</th><th>float64</th><th>int32</th><th>int32</th><th>float64</th><th>float64</th><th>int32</th><th>int32</th><th>float64</th><th>float64</th><th>int32</th><th>int32</th><th>float64</th><th>float64</th><th>int32</th><th>int32</th><th>object</th><th>object</th><th>object</th><th>object</th><th>object</th><th>object</th><th>object</th><th>object</th><th>object</th><th>object</th><th>object</th><th>object</th><th>int32</th><th>int32</th><th>int32</th><th>int32</th><th>object</th><th>int32</th><th>object</th><th>object</th><th>object</th><th>object</th><th>object</th><th>object</th><th>object</th><th>int32</th><th>int32</th><th>int32</th><th>int32</th><th>int32</th><th>int32</th><th>int32</th><th>int32</th><th>int32</th><th>int32</th><th>object</th><th>object</th><th>float64</th><th>float64</th><th>float64</th><th>int32</th><th>int32</th><th>float64</th><th>float64</th><th>float64</th><th>int32</th><th>int32</th><th>float64</th><th>float64</th><th>float64</th><th>int32</th><th>int32</th><th>float64</th><th>float64</th><th>float64</th><th>int32</th><th>int32</th><th>float64</th><th>float64</th><th>float64</th><th>int32</th><th>int32</th><th>float64</th><th>float64</th><th>float64</th><th>int32</th><th>int32</th><th>float64</th><th>float64</th><th>float64</th><th>int32</th><th>int32</th><th>float64</th><th>float64</th><th>float64</th><th>int32</th><th>object</th><th>int32</th><th>float64</th><th>float64</th><th>float64</th><th>int32</th><th>float64</th><th>float64</th><th>float64</th><th>int32</th><th>int32</th><th>float64</th><th>float64</th><th>float64</th><th>int32</th><th>float64</th><th>float64</th><th>float64</th><th>int32</th><th>int32</th><th>float64</th><th>float64</th><th>float64</th><th>int32</th><th>float64</th><th>float64</th><th>float64</th><th>int32</th><th>int32</th><th>object</th><th>float64</th><th>float64</th><th>float64</th><th>int32</th><th>float64</th><th>float64</th><th>float64</th><th>int32</th><th>float64</th><th>float64</th><th>float64</th><th>int32</th><th>int32</th><th>float64</th><th>float64</th><th>float64</th><th>int32</th><th>int32</th><th>object</th><th>object</th><th>object</th><th>int32</th><th>int32</th><th>float64</th><th>float64</th><th>float64</th><th>int32</th><th>int32</th><th>float64</th><th>float64</th><th>float64</th><th>int32</th><th>int32</th><th>float64</th><th>float64</th><th>float64</th><th>int32</th><th>int32</th><th>float64</th><th>float64</th><th>float64</th><th>int32</th><th>int32</th><th>object</th><th>float64</th><th>float64</th><th>float64</th><th>int32</th><th>int32</th><th>float64</th><th>float64</th><th>float64</th><th>int32</th><th>int32</th><th>float64</th><th>float64</th><th>float64</th><th>int32</th><th>int32</th><th>float64</th><th>float64</th><th>float64</th><th>int32</th><th>int32</th><th>float64</th><th>float64</th><th>float64</th><th>int32</th><th>object</th><th>object</th><th>object</th><th>int32</th><th>int32</th><th>object</th><th>float64</th><th>float64</th><th>float64</th><th>int32</th><th>float64</th><th>float64</th><th>float64</th><th>int32</th><th>float64</th><th>float64</th><th>int32</th><th>float64</th><th>float64</th><th>int32</th><th>float64</th><th>float64</th><th>int32</th><th>float64</th><th>float64</th><th>int32</th><th>float64</th><th>float64</th><th>float64</th><th>int32</th></tr></thead>\n",
       "<tr><td>HD 189733 b</td><td>300.18213</td><td>2e-06</td><td>20.01214193</td><td>1.1e-07</td><td>20h00m43.71s</td><td>22.71085</td><td>1e-06</td><td>+22d42m39.1s</td><td>60.963018</td><td>2e-06</td><td>-3.922181</td><td>2e-06</td><td>308.740882</td><td>2e-06</td><td>42.176204</td><td>2e-06</td><td>3</td><td>50.57</td><td>0.03</td><td>-0.03</td><td>0</td><td>4</td><td>19.78</td><td>0.01</td><td>-0.01</td><td>0</td><td>6</td><td>-3.3</td><td>0.0</td><td>0</td><td>-250.2</td><td>0.0</td><td>0</td><td>250.2</td><td>0.0</td><td>0</td><td>4</td><td>-2.36</td><td>0.0</td><td>--</td><td>0</td><td>3</td><td>--</td><td>--</td><td>--</td><td>8.58</td><td>0.01</td><td>0</td><td>7.67</td><td>0.03</td><td>0</td><td>--</td><td>--</td><td>--</td><td>--</td><td>--</td><td>--</td><td>6.073</td><td>0.032</td><td>0</td><td>5.587</td><td>0.031</td><td>0</td><td>5.541</td><td>0.021</td><td>0</td><td>5.289</td><td>0.154</td><td>0</td><td>5.342</td><td>0.05</td><td>0</td><td>5.459</td><td>0.013</td><td>0</td><td>5.427</td><td>0.033</td><td>0</td><td>--</td><td>--</td><td>--</td><td>--</td><td>--</td><td>--</td><td>--</td><td>--</td><td>--</td><td>--</td><td>--</td><td>--</td><td>--</td><td>--</td><td>--</td><td>--</td><td>--</td><td>--</td><td>--</td><td>--</td><td>--</td><td>--</td><td>--</td><td>--</td><td>--</td><td>--</td><td>--</td><td>--</td><td>--</td><td>--</td><td>--</td><td>--</td><td>--</td><td>7.67</td><td>0.03</td><td>0</td><td>V (Johnson)</td><td>19</td><td>--</td><td>--</td><td>--</td><td>0.93</td><td>0.01</td><td>0</td><td>--</td><td>--</td><td>--</td><td>--</td><td>--</td><td>--</td><td>0.486</td><td>0.045</td><td>0</td><td>0.046</td><td>0.037</td><td>0</td><td>0.532</td><td>0.038</td><td>0</td><td>0.527</td><td>0.003</td><td>0</td><td>0.442</td><td>0.004</td><td>0</td><td>0.272</td><td>0.006</td><td>0</td><td>10</td><td>K2 V</td><td>--</td><td>0</td><td>4</td><td>5052.0</td><td>16.0</td><td>-16.0</td><td>0</td><td>9</td><td>4.49</td><td>0.05</td><td>-0.05</td><td>0</td><td>8</td><td>-0.02</td><td>--</td><td>--</td><td>0</td><td>8</td><td>[Fe/H]</td><td>--</td><td>--</td><td>--</td><td>0</td><td>5</td><td>0.75</td><td>0.01</td><td>-0.01</td><td>0</td><td>10</td><td>0.79</td><td>0.08</td><td>-0.08</td><td>0</td><td>9</td><td>2.65</td><td>0.25</td><td>-0.25</td><td>0</td><td>6</td><td>--</td><td>--</td><td>--</td><td>0</td><td>5</td><td>3.5</td><td>1.0</td><td>--</td><td>0</td><td>3</td><td>0.525</td><td>0.068</td><td>0</td><td>1</td><td>--</td><td>--</td><td>--</td><td>0</td><td>28.44</td><td>--</td><td>0</td><td>1</td><td>61</td><td>25</td><td>1</td><td>2</td><td>33</td><td>4</td><td>5</td><td>HD 189733</td><td>HIP 98505</td><td>--</td><td>HD 189733</td><td>b</td><td>1</td><td>1</td><td>0</td><td>3</td><td>Radial Velocity</td><td>2005</td><td>Bouchy et al. 2005</td><td>2005-12</td><td>Haute-Provence Observatory</td><td>1.93 m Telescope</td><td>ELODIE Spectrograph</td><td>Ground</td><td>Stassun et al. 2017</td><td>1</td><td>0</td><td>0</td><td>1</td><td>0</td><td>0</td><td>0</td><td>0</td><td>0</td><td>1</td><td>http://exoplanet.eu/catalog/hd_189733_b/</td><td>http://exoplanets.org/detail/HD_189733_b</td><td>2.21857567</td><td>1.5e-07</td><td>-1.5e-07</td><td>0</td><td>9</td><td>--</td><td>--</td><td>--</td><td>0</td><td>5</td><td>85.71</td><td>0.0</td><td>0.0</td><td>0</td><td>7</td><td>--</td><td>--</td><td>--</td><td>0</td><td>0</td><td>0.0</td><td>--</td><td>--</td><td>0</td><td>3</td><td>--</td><td>--</td><td>--</td><td>0</td><td>0</td><td>205.0</td><td>6.0</td><td>-6.0</td><td>0</td><td>4</td><td>--</td><td>--</td><td>--</td><td>--</td><td>--</td><td>--</td><td>--</td><td>--</td><td>--</td><td>0</td><td>--</td><td>--</td><td>--</td><td>0</td><td>0</td><td>1.13</td><td>0.08</td><td>-0.08</td><td>0</td><td>359.1479</td><td>25.4264</td><td>-25.4264</td><td>0</td><td>7</td><td>1.13</td><td>0.08</td><td>-0.08</td><td>0</td><td>359.1479</td><td>25.4264</td><td>-25.4264</td><td>0</td><td>7</td><td>Mass</td><td>1.13</td><td>0.01</td><td>-0.01</td><td>0</td><td>12.666</td><td>0.112</td><td>-0.112</td><td>0</td><td>0.116</td><td>0.001</td><td>-0.001</td><td>0</td><td>7</td><td>--</td><td>--</td><td>--</td><td>0</td><td>6</td><td>--</td><td>--</td><td>--</td><td>0</td><td>5</td><td>--</td><td>--</td><td>--</td><td>0</td><td>0</td><td>2.4</td><td>0.0058</td><td>-0.0058</td><td>0</td><td>3</td><td>--</td><td>--</td><td>--</td><td>0</td><td>2</td><td>--</td><td>--</td><td>--</td><td>0</td><td>3</td><td>--</td><td>--</td><td>--</td><td>--</td><td>0</td><td>5</td><td>--</td><td>--</td><td>--</td><td>0</td><td>0</td><td>8.84</td><td>0.27</td><td>-0.27</td><td>0</td><td>5</td><td>--</td><td>--</td><td>--</td><td>0</td><td>7</td><td>--</td><td>--</td><td>--</td><td>--</td><td>--</td><td>--</td><td>--</td><td>138</td><td>54</td><td>2018-12-06</td><td>50.57</td><td>0.03</td><td>-0.03</td><td>0</td><td>19.78</td><td>0.01</td><td>-0.01</td><td>0</td><td>-3.3</td><td>0.0</td><td>0</td><td>-250.2</td><td>0.0</td><td>0</td><td>250.2</td><td>0.0</td><td>0</td><td>7.414</td><td>--</td><td>0</td><td>--</td><td>--</td><td>--</td><td>0</td></tr>\n",
       "</table>"
      ],
      "text/plain": [
       "<MasterFile masked=True length=1>\n",
       "  pl_name       ra     st_raerr ... pl_angseperr1 pl_angseperr2 pl_controvflag\n",
       "               deg       deg    ...      mas           mas                    \n",
       "   object    float32   float64  ...    float64       float64        int32     \n",
       "----------- ---------- -------- ... ------------- ------------- --------------\n",
       "HD 189733 b  300.18213    2e-06 ...            --            --              0"
      ]
     },
     "execution_count": 25,
     "metadata": {},
     "output_type": "execute_result"
    }
   ],
   "source": [
    "data.by_plName('189733')"
   ]
  },
  {
   "cell_type": "code",
   "execution_count": 29,
   "metadata": {},
   "outputs": [],
   "source": [
    "from astropy.units import Unit"
   ]
  },
  {
   "cell_type": "code",
   "execution_count": 32,
   "metadata": {},
   "outputs": [],
   "source": [
    "col_units = data['pl_trandur'].unit"
   ]
  },
  {
   "cell_type": "code",
   "execution_count": 37,
   "metadata": {},
   "outputs": [
    {
     "name": "stdout",
     "output_type": "stream",
     "text": [
      "<class 'astropy.units.core.UnrecognizedUnit'>\n"
     ]
    }
   ],
   "source": [
    "try:\n",
    "    1.*Unit(col_units)\n",
    "except TypeError:\n",
    "    None\n",
    "except:\n",
    "    print(type(col_units))"
   ]
  },
  {
   "cell_type": "code",
   "execution_count": 4,
   "metadata": {},
   "outputs": [],
   "source": [
    "from transit_prediction.utils.table_edited import MaskedColumn"
   ]
  },
  {
   "cell_type": "code",
   "execution_count": 8,
   "metadata": {},
   "outputs": [],
   "source": [
    "import numpy as np"
   ]
  },
  {
   "cell_type": "code",
   "execution_count": 43,
   "metadata": {},
   "outputs": [],
   "source": [
    "from getpass import getuser"
   ]
  },
  {
   "cell_type": "code",
   "execution_count": 45,
   "metadata": {},
   "outputs": [],
   "source": [
    "import datetime"
   ]
  },
  {
   "cell_type": "code",
   "execution_count": 78,
   "metadata": {},
   "outputs": [
    {
     "name": "stdout",
     "output_type": "stream",
     "text": [
      "<_io.TextIOWrapper name='/home/adb/Archive/test.txt' mode='a+' encoding='ISO-8859-1'>\n",
      "<_io.TextIOWrapper name='/home/adb/Archive/test.txt' mode='a+' encoding='ISO-8859-1'>\n",
      "<_io.TextIOWrapper name='/home/adb/Archive/test.txt' mode='a+' encoding='ISO-8859-1'>\n"
     ]
    }
   ],
   "source": [
    "with open('/home/adb/Archive/test.txt', 'a+') as f:\n",
    "    f.write('----------------------\\n')\n",
    "    f.write(str(datetime.datetime.now())+'\\n')\n",
    "    f.write('MODIFICATION BY {} :\\n'.format(getuser()))\n",
    "    f.writelines('\\n'.join(['test1', 'test2'])+'\\n')\n",
    "    f.close()"
   ]
  },
  {
   "cell_type": "code",
   "execution_count": 82,
   "metadata": {},
   "outputs": [
    {
     "name": "stderr",
     "output_type": "stream",
     "text": [
      "WARNING: UnitsWarning: 'days' did not parse as unit: At col 0, days is not a valid unit. Did you mean day? [astropy.units.core]\n"
     ]
    }
   ],
   "source": [
    "test_u = Unit('days', parse_strict='warn')"
   ]
  },
  {
   "cell_type": "code",
   "execution_count": 97,
   "metadata": {},
   "outputs": [
    {
     "ename": "SyntaxError",
     "evalue": "invalid syntax (<ipython-input-97-67d80d62a474>, line 1)",
     "output_type": "error",
     "traceback": [
      "\u001b[0;36m  File \u001b[0;32m\"<ipython-input-97-67d80d62a474>\"\u001b[0;36m, line \u001b[0;32m1\u001b[0m\n\u001b[0;31m    except Unit(str(test_u)) as e: print(e)\u001b[0m\n\u001b[0m         ^\u001b[0m\n\u001b[0;31mSyntaxError\u001b[0m\u001b[0;31m:\u001b[0m invalid syntax\n"
     ]
    }
   ],
   "source": [
    "except Unit(str(test_u)) as e: print(e)"
   ]
  },
  {
   "cell_type": "code",
   "execution_count": 124,
   "metadata": {},
   "outputs": [],
   "source": [
    "test = []"
   ]
  },
  {
   "cell_type": "code",
   "execution_count": 125,
   "metadata": {},
   "outputs": [],
   "source": [
    "test.extend('dfsdf')"
   ]
  },
  {
   "cell_type": "code",
   "execution_count": 126,
   "metadata": {},
   "outputs": [
    {
     "name": "stdout",
     "output_type": "stream",
     "text": [
      "['d', 'f', 's', 'd', 'f']\n"
     ]
    }
   ],
   "source": [
    "print(test)"
   ]
  },
  {
   "cell_type": "code",
   "execution_count": 98,
   "metadata": {},
   "outputs": [],
   "source": [
    "def print_unit_error(str_unit):\n",
    "    \n",
    "    try:\n",
    "        Unit(str_unit)\n",
    "    except ValueError as e:\n",
    "        print(e)\n"
   ]
  },
  {
   "cell_type": "code",
   "execution_count": 99,
   "metadata": {},
   "outputs": [
    {
     "name": "stdout",
     "output_type": "stream",
     "text": [
      "'days' did not parse as unit: At col 0, days is not a valid unit. Did you mean day?\n"
     ]
    }
   ],
   "source": [
    "print_unit_error(str(test_u))"
   ]
  },
  {
   "cell_type": "code",
   "execution_count": 94,
   "metadata": {},
   "outputs": [
    {
     "name": "stdout",
     "output_type": "stream",
     "text": [
      "'None' did not parse as unit: At col 0, None is not a valid unit. \n"
     ]
    }
   ],
   "source": [
    "try:\n",
    "    Unit(str(None))\n",
    "except TypeError:\n",
    "    print('Column has no units (unit = None)')\n",
    "except BaseException as e:\n",
    "    print(e)"
   ]
  },
  {
   "cell_type": "code",
   "execution_count": 75,
   "metadata": {},
   "outputs": [
    {
     "name": "stdout",
     "output_type": "stream",
     "text": [
      "\u001b[H\u001b[K----------------------\r\n",
      "\u001b[K2019-03-02 11:48:34.893629\r\n",
      "\u001b[KMODIFICATION BY adb :\r\n",
      "\u001b[Ktest1\r\n",
      "\u001b[Ktest2\r\n",
      "\u001b[K----------------------\r\n",
      "\u001b[K2019-03-02 11:48:47.241877\r\n",
      "\u001b[KMODIFICATION BY adb :\r\n",
      "\u001b[Ktest1\r\n",
      "\u001b[Ktest2\r\n",
      "\u001b[K----------------------\r\n",
      "\u001b[K2019-03-02 11:48:49.878525\r\n",
      "\u001b[KMODIFICATION BY adb :\r\n",
      "\u001b[Ktest1\r\n",
      "\u001b[Ktest2\r\n",
      "\u001b[J"
     ]
    }
   ],
   "source": [
    "!more '/home/adb/Archive/test.txt'"
   ]
  },
  {
   "cell_type": "code",
   "execution_count": 24,
   "metadata": {},
   "outputs": [
    {
     "data": {
      "text/plain": [
       "'testsdlfbsdboiusdf'"
      ]
     },
     "execution_count": 24,
     "metadata": {},
     "output_type": "execute_result"
    }
   ],
   "source": [
    "testcol = MaskedColumn(length=4, mask=True, dtype='O')\n",
    "testcol[0] = 'testsdlfbsdboiusdf'\n",
    "testcol[0]"
   ]
  },
  {
   "cell_type": "code",
   "execution_count": 2,
   "metadata": {},
   "outputs": [],
   "source": [
    "target_list = [\"GJ 436 b\",\n",
    "               \"GJ 1214 b\",\n",
    "               \"GJ 3470 b\",\n",
    "               \"K2-25 b\",\n",
    "               \"HD 189733 b\",\n",
    "               \"WASP-69 b\",\n",
    "               \"HAT-P-1 b\",\n",
    "               \"WASP-80 b\",\n",
    "               \"WASP-107 b\"]"
   ]
  },
  {
   "cell_type": "code",
   "execution_count": null,
   "metadata": {},
   "outputs": [],
   "source": []
  }
 ],
 "metadata": {
  "kernelspec": {
   "display_name": "Python 3",
   "language": "python",
   "name": "python3"
  },
  "language_info": {
   "codemirror_mode": {
    "name": "ipython",
    "version": 3
   },
   "file_extension": ".py",
   "mimetype": "text/x-python",
   "name": "python",
   "nbconvert_exporter": "python",
   "pygments_lexer": "ipython3",
   "version": "3.7.1"
  }
 },
 "nbformat": 4,
 "nbformat_minor": 2
}
